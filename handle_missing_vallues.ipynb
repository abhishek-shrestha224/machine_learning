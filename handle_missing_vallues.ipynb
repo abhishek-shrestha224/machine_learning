{
 "cells": [
  {
   "metadata": {
    "ExecuteTime": {
     "end_time": "2024-09-04T12:20:04.631684Z",
     "start_time": "2024-09-04T12:20:04.614066Z"
    }
   },
   "cell_type": "code",
   "source": [
    "import pandas as pd\n",
    "import numpy as np\n",
    "from pprint import pprint\n",
    "\n",
    "from PIL.ImageChops import constant"
   ],
   "id": "6493d7d5d484a2d5",
   "outputs": [],
   "execution_count": 41
  },
  {
   "cell_type": "code",
   "id": "initial_id",
   "metadata": {
    "collapsed": true,
    "ExecuteTime": {
     "end_time": "2024-09-04T12:20:04.661852Z",
     "start_time": "2024-09-04T12:20:04.645696Z"
    }
   },
   "source": [
    "data = {\n",
    "    'Age': [25, np.nan, 22, 35, np.nan, 45],\n",
    "    'Salary': [50000, 60000, np.nan, 80000, 75000, np.nan],\n",
    "    'Gender': ['Male', 'Female', np.nan, 'Female', 'Male', 'Female'],\n",
    "    'City': ['New York', np.nan, 'Los Angeles', 'Chicago', 'New York', np.nan],\n",
    "}\n",
    "\n",
    "pprint(data)\n"
   ],
   "outputs": [
    {
     "name": "stdout",
     "output_type": "stream",
     "text": [
      "{'Age': [25, nan, 22, 35, nan, 45],\n",
      " 'City': ['New York', nan, 'Los Angeles', 'Chicago', 'New York', nan],\n",
      " 'Gender': ['Male', 'Female', nan, 'Female', 'Male', 'Female'],\n",
      " 'Salary': [50000, 60000, nan, 80000, 75000, nan]}\n"
     ]
    }
   ],
   "execution_count": 42
  },
  {
   "metadata": {
    "ExecuteTime": {
     "end_time": "2024-09-04T12:20:04.792565Z",
     "start_time": "2024-09-04T12:20:04.771419Z"
    }
   },
   "cell_type": "code",
   "source": [
    "df = pd.DataFrame(data)\n",
    "df"
   ],
   "id": "c3a575e2d893de28",
   "outputs": [
    {
     "data": {
      "text/plain": [
       "    Age   Salary  Gender         City\n",
       "0  25.0  50000.0    Male     New York\n",
       "1   NaN  60000.0  Female          NaN\n",
       "2  22.0      NaN     NaN  Los Angeles\n",
       "3  35.0  80000.0  Female      Chicago\n",
       "4   NaN  75000.0    Male     New York\n",
       "5  45.0      NaN  Female          NaN"
      ],
      "text/html": [
       "<div>\n",
       "<style scoped>\n",
       "    .dataframe tbody tr th:only-of-type {\n",
       "        vertical-align: middle;\n",
       "    }\n",
       "\n",
       "    .dataframe tbody tr th {\n",
       "        vertical-align: top;\n",
       "    }\n",
       "\n",
       "    .dataframe thead th {\n",
       "        text-align: right;\n",
       "    }\n",
       "</style>\n",
       "<table border=\"1\" class=\"dataframe\">\n",
       "  <thead>\n",
       "    <tr style=\"text-align: right;\">\n",
       "      <th></th>\n",
       "      <th>Age</th>\n",
       "      <th>Salary</th>\n",
       "      <th>Gender</th>\n",
       "      <th>City</th>\n",
       "    </tr>\n",
       "  </thead>\n",
       "  <tbody>\n",
       "    <tr>\n",
       "      <th>0</th>\n",
       "      <td>25.0</td>\n",
       "      <td>50000.0</td>\n",
       "      <td>Male</td>\n",
       "      <td>New York</td>\n",
       "    </tr>\n",
       "    <tr>\n",
       "      <th>1</th>\n",
       "      <td>NaN</td>\n",
       "      <td>60000.0</td>\n",
       "      <td>Female</td>\n",
       "      <td>NaN</td>\n",
       "    </tr>\n",
       "    <tr>\n",
       "      <th>2</th>\n",
       "      <td>22.0</td>\n",
       "      <td>NaN</td>\n",
       "      <td>NaN</td>\n",
       "      <td>Los Angeles</td>\n",
       "    </tr>\n",
       "    <tr>\n",
       "      <th>3</th>\n",
       "      <td>35.0</td>\n",
       "      <td>80000.0</td>\n",
       "      <td>Female</td>\n",
       "      <td>Chicago</td>\n",
       "    </tr>\n",
       "    <tr>\n",
       "      <th>4</th>\n",
       "      <td>NaN</td>\n",
       "      <td>75000.0</td>\n",
       "      <td>Male</td>\n",
       "      <td>New York</td>\n",
       "    </tr>\n",
       "    <tr>\n",
       "      <th>5</th>\n",
       "      <td>45.0</td>\n",
       "      <td>NaN</td>\n",
       "      <td>Female</td>\n",
       "      <td>NaN</td>\n",
       "    </tr>\n",
       "  </tbody>\n",
       "</table>\n",
       "</div>"
      ]
     },
     "execution_count": 43,
     "metadata": {},
     "output_type": "execute_result"
    }
   ],
   "execution_count": 43
  },
  {
   "metadata": {
    "ExecuteTime": {
     "end_time": "2024-09-04T12:20:04.864405Z",
     "start_time": "2024-09-04T12:20:04.854944Z"
    }
   },
   "cell_type": "code",
   "source": "from sklearn.impute import SimpleImputer",
   "id": "a4e8addbefc89949",
   "outputs": [],
   "execution_count": 44
  },
  {
   "metadata": {
    "ExecuteTime": {
     "end_time": "2024-09-04T12:20:05.064114Z",
     "start_time": "2024-09-04T12:20:04.922328Z"
    }
   },
   "cell_type": "code",
   "source": "mean= SimpleImputer(strategy='mean')",
   "id": "b80949ff5f4af3c8",
   "outputs": [],
   "execution_count": 45
  },
  {
   "metadata": {
    "ExecuteTime": {
     "end_time": "2024-09-04T12:20:05.173171Z",
     "start_time": "2024-09-04T12:20:05.165283Z"
    }
   },
   "cell_type": "code",
   "source": "md = SimpleImputer( strategy='median')",
   "id": "858135230ef329b8",
   "outputs": [],
   "execution_count": 46
  },
  {
   "metadata": {
    "ExecuteTime": {
     "end_time": "2024-09-04T12:20:05.228872Z",
     "start_time": "2024-09-04T12:20:05.223051Z"
    }
   },
   "cell_type": "code",
   "source": "mode = SimpleImputer( strategy='most_frequent')",
   "id": "620a0389a90dda7a",
   "outputs": [],
   "execution_count": 47
  },
  {
   "metadata": {
    "ExecuteTime": {
     "end_time": "2024-09-04T12:20:05.284050Z",
     "start_time": "2024-09-04T12:20:05.278114Z"
    }
   },
   "cell_type": "code",
   "source": "const = SimpleImputer( strategy='constant', fill_value='city missing')",
   "id": "69b24892decf4de1",
   "outputs": [],
   "execution_count": 48
  },
  {
   "metadata": {
    "ExecuteTime": {
     "end_time": "2024-09-04T12:20:05.365615Z",
     "start_time": "2024-09-04T12:20:05.354113Z"
    }
   },
   "cell_type": "code",
   "source": "df['imputed_age'] = mean.fit_transform(df[['Age']])",
   "id": "57cf033160bf8e27",
   "outputs": [],
   "execution_count": 49
  },
  {
   "metadata": {
    "ExecuteTime": {
     "end_time": "2024-09-04T12:20:05.394772Z",
     "start_time": "2024-09-04T12:20:05.371757Z"
    }
   },
   "cell_type": "code",
   "source": "df['imputed_salary'] = md.fit_transform(df[['Salary']])",
   "id": "edcf4ebc5a39f302",
   "outputs": [],
   "execution_count": 50
  },
  {
   "metadata": {
    "ExecuteTime": {
     "end_time": "2024-09-04T12:23:25.581042Z",
     "start_time": "2024-09-04T12:23:25.557573Z"
    }
   },
   "cell_type": "code",
   "source": [
    "imputed_gender = mode.fit_transform(df[['Gender']])\n",
    "df['imputed_gender']=imputed_gender.ravel()"
   ],
   "id": "b78435c52a2f0720",
   "outputs": [],
   "execution_count": 56
  },
  {
   "metadata": {
    "ExecuteTime": {
     "end_time": "2024-09-04T12:23:50.749330Z",
     "start_time": "2024-09-04T12:23:50.738071Z"
    }
   },
   "cell_type": "code",
   "source": [
    "imputed_city = const.fit_transform(df[['City']])\n",
    "df['imputed_city']=imputed_city.ravel()"
   ],
   "id": "9ebd52d72e6a1ef3",
   "outputs": [],
   "execution_count": 57
  },
  {
   "metadata": {
    "ExecuteTime": {
     "end_time": "2024-09-04T12:23:53.255324Z",
     "start_time": "2024-09-04T12:23:53.227186Z"
    }
   },
   "cell_type": "code",
   "source": "df",
   "id": "a8e176ad5ffa4fe0",
   "outputs": [
    {
     "data": {
      "text/plain": [
       "    Age   Salary  Gender         City  imputed_age  imputed_salary  \\\n",
       "0  25.0  50000.0    Male     New York        25.00         50000.0   \n",
       "1   NaN  60000.0  Female          NaN        31.75         60000.0   \n",
       "2  22.0      NaN     NaN  Los Angeles        22.00         67500.0   \n",
       "3  35.0  80000.0  Female      Chicago        35.00         80000.0   \n",
       "4   NaN  75000.0    Male     New York        31.75         75000.0   \n",
       "5  45.0      NaN  Female          NaN        45.00         67500.0   \n",
       "\n",
       "  imputed_gender  imputed_city  \n",
       "0           Male      New York  \n",
       "1         Female  city missing  \n",
       "2         Female   Los Angeles  \n",
       "3         Female       Chicago  \n",
       "4           Male      New York  \n",
       "5         Female  city missing  "
      ],
      "text/html": [
       "<div>\n",
       "<style scoped>\n",
       "    .dataframe tbody tr th:only-of-type {\n",
       "        vertical-align: middle;\n",
       "    }\n",
       "\n",
       "    .dataframe tbody tr th {\n",
       "        vertical-align: top;\n",
       "    }\n",
       "\n",
       "    .dataframe thead th {\n",
       "        text-align: right;\n",
       "    }\n",
       "</style>\n",
       "<table border=\"1\" class=\"dataframe\">\n",
       "  <thead>\n",
       "    <tr style=\"text-align: right;\">\n",
       "      <th></th>\n",
       "      <th>Age</th>\n",
       "      <th>Salary</th>\n",
       "      <th>Gender</th>\n",
       "      <th>City</th>\n",
       "      <th>imputed_age</th>\n",
       "      <th>imputed_salary</th>\n",
       "      <th>imputed_gender</th>\n",
       "      <th>imputed_city</th>\n",
       "    </tr>\n",
       "  </thead>\n",
       "  <tbody>\n",
       "    <tr>\n",
       "      <th>0</th>\n",
       "      <td>25.0</td>\n",
       "      <td>50000.0</td>\n",
       "      <td>Male</td>\n",
       "      <td>New York</td>\n",
       "      <td>25.00</td>\n",
       "      <td>50000.0</td>\n",
       "      <td>Male</td>\n",
       "      <td>New York</td>\n",
       "    </tr>\n",
       "    <tr>\n",
       "      <th>1</th>\n",
       "      <td>NaN</td>\n",
       "      <td>60000.0</td>\n",
       "      <td>Female</td>\n",
       "      <td>NaN</td>\n",
       "      <td>31.75</td>\n",
       "      <td>60000.0</td>\n",
       "      <td>Female</td>\n",
       "      <td>city missing</td>\n",
       "    </tr>\n",
       "    <tr>\n",
       "      <th>2</th>\n",
       "      <td>22.0</td>\n",
       "      <td>NaN</td>\n",
       "      <td>NaN</td>\n",
       "      <td>Los Angeles</td>\n",
       "      <td>22.00</td>\n",
       "      <td>67500.0</td>\n",
       "      <td>Female</td>\n",
       "      <td>Los Angeles</td>\n",
       "    </tr>\n",
       "    <tr>\n",
       "      <th>3</th>\n",
       "      <td>35.0</td>\n",
       "      <td>80000.0</td>\n",
       "      <td>Female</td>\n",
       "      <td>Chicago</td>\n",
       "      <td>35.00</td>\n",
       "      <td>80000.0</td>\n",
       "      <td>Female</td>\n",
       "      <td>Chicago</td>\n",
       "    </tr>\n",
       "    <tr>\n",
       "      <th>4</th>\n",
       "      <td>NaN</td>\n",
       "      <td>75000.0</td>\n",
       "      <td>Male</td>\n",
       "      <td>New York</td>\n",
       "      <td>31.75</td>\n",
       "      <td>75000.0</td>\n",
       "      <td>Male</td>\n",
       "      <td>New York</td>\n",
       "    </tr>\n",
       "    <tr>\n",
       "      <th>5</th>\n",
       "      <td>45.0</td>\n",
       "      <td>NaN</td>\n",
       "      <td>Female</td>\n",
       "      <td>NaN</td>\n",
       "      <td>45.00</td>\n",
       "      <td>67500.0</td>\n",
       "      <td>Female</td>\n",
       "      <td>city missing</td>\n",
       "    </tr>\n",
       "  </tbody>\n",
       "</table>\n",
       "</div>"
      ]
     },
     "execution_count": 58,
     "metadata": {},
     "output_type": "execute_result"
    }
   ],
   "execution_count": 58
  }
 ],
 "metadata": {
  "kernelspec": {
   "display_name": "Python 3",
   "language": "python",
   "name": "python3"
  },
  "language_info": {
   "codemirror_mode": {
    "name": "ipython",
    "version": 2
   },
   "file_extension": ".py",
   "mimetype": "text/x-python",
   "name": "python",
   "nbconvert_exporter": "python",
   "pygments_lexer": "ipython2",
   "version": "2.7.6"
  }
 },
 "nbformat": 4,
 "nbformat_minor": 5
}
