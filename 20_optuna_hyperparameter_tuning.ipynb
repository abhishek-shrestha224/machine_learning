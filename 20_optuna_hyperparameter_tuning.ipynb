{
 "cells": [
  {
   "cell_type": "code",
   "execution_count": 1,
   "metadata": {},
   "outputs": [],
   "source": [
    "import seaborn as sns\n",
    "import pandas as pd\n",
    "from sklearn.model_selection import train_test_split\n",
    "from sklearn.ensemble import RandomForestRegressor\n",
    "from sklearn.metrics import mean_absolute_error, mean_squared_error, r2_score\n",
    "import optuna\n",
    "from sklearn.model_selection import cross_val_score\n",
    "import matplotlib.pyplot as plt\n",
    "import plotly"
   ]
  },
  {
   "cell_type": "code",
   "execution_count": 2,
   "metadata": {},
   "outputs": [
    {
     "data": {
      "text/html": [
       "<div>\n",
       "<style scoped>\n",
       "    .dataframe tbody tr th:only-of-type {\n",
       "        vertical-align: middle;\n",
       "    }\n",
       "\n",
       "    .dataframe tbody tr th {\n",
       "        vertical-align: top;\n",
       "    }\n",
       "\n",
       "    .dataframe thead th {\n",
       "        text-align: right;\n",
       "    }\n",
       "</style>\n",
       "<table border=\"1\" class=\"dataframe\">\n",
       "  <thead>\n",
       "    <tr style=\"text-align: right;\">\n",
       "      <th></th>\n",
       "      <th>Year</th>\n",
       "      <th>Country</th>\n",
       "      <th>Spending_USD</th>\n",
       "      <th>Life_Expectancy</th>\n",
       "    </tr>\n",
       "  </thead>\n",
       "  <tbody>\n",
       "    <tr>\n",
       "      <th>0</th>\n",
       "      <td>1970</td>\n",
       "      <td>Germany</td>\n",
       "      <td>252.311</td>\n",
       "      <td>70.6</td>\n",
       "    </tr>\n",
       "    <tr>\n",
       "      <th>1</th>\n",
       "      <td>1970</td>\n",
       "      <td>France</td>\n",
       "      <td>192.143</td>\n",
       "      <td>72.2</td>\n",
       "    </tr>\n",
       "    <tr>\n",
       "      <th>2</th>\n",
       "      <td>1970</td>\n",
       "      <td>Great Britain</td>\n",
       "      <td>123.993</td>\n",
       "      <td>71.9</td>\n",
       "    </tr>\n",
       "    <tr>\n",
       "      <th>3</th>\n",
       "      <td>1970</td>\n",
       "      <td>Japan</td>\n",
       "      <td>150.437</td>\n",
       "      <td>72.0</td>\n",
       "    </tr>\n",
       "    <tr>\n",
       "      <th>4</th>\n",
       "      <td>1970</td>\n",
       "      <td>USA</td>\n",
       "      <td>326.961</td>\n",
       "      <td>70.9</td>\n",
       "    </tr>\n",
       "    <tr>\n",
       "      <th>5</th>\n",
       "      <td>1971</td>\n",
       "      <td>Canada</td>\n",
       "      <td>313.391</td>\n",
       "      <td>72.8</td>\n",
       "    </tr>\n",
       "    <tr>\n",
       "      <th>6</th>\n",
       "      <td>1971</td>\n",
       "      <td>Germany</td>\n",
       "      <td>298.251</td>\n",
       "      <td>70.8</td>\n",
       "    </tr>\n",
       "    <tr>\n",
       "      <th>7</th>\n",
       "      <td>1971</td>\n",
       "      <td>Great Britain</td>\n",
       "      <td>134.172</td>\n",
       "      <td>71.9</td>\n",
       "    </tr>\n",
       "    <tr>\n",
       "      <th>8</th>\n",
       "      <td>1971</td>\n",
       "      <td>Japan</td>\n",
       "      <td>163.854</td>\n",
       "      <td>72.9</td>\n",
       "    </tr>\n",
       "    <tr>\n",
       "      <th>9</th>\n",
       "      <td>1971</td>\n",
       "      <td>USA</td>\n",
       "      <td>357.988</td>\n",
       "      <td>71.2</td>\n",
       "    </tr>\n",
       "    <tr>\n",
       "      <th>10</th>\n",
       "      <td>1972</td>\n",
       "      <td>Germany</td>\n",
       "      <td>337.364</td>\n",
       "      <td>71.0</td>\n",
       "    </tr>\n",
       "    <tr>\n",
       "      <th>11</th>\n",
       "      <td>1972</td>\n",
       "      <td>Japan</td>\n",
       "      <td>185.390</td>\n",
       "      <td>73.2</td>\n",
       "    </tr>\n",
       "    <tr>\n",
       "      <th>12</th>\n",
       "      <td>1972</td>\n",
       "      <td>USA</td>\n",
       "      <td>397.097</td>\n",
       "      <td>71.2</td>\n",
       "    </tr>\n",
       "    <tr>\n",
       "      <th>13</th>\n",
       "      <td>1973</td>\n",
       "      <td>Germany</td>\n",
       "      <td>384.541</td>\n",
       "      <td>71.3</td>\n",
       "    </tr>\n",
       "    <tr>\n",
       "      <th>14</th>\n",
       "      <td>1973</td>\n",
       "      <td>Japan</td>\n",
       "      <td>205.778</td>\n",
       "      <td>73.4</td>\n",
       "    </tr>\n",
       "    <tr>\n",
       "      <th>15</th>\n",
       "      <td>1973</td>\n",
       "      <td>USA</td>\n",
       "      <td>439.302</td>\n",
       "      <td>71.4</td>\n",
       "    </tr>\n",
       "    <tr>\n",
       "      <th>16</th>\n",
       "      <td>1974</td>\n",
       "      <td>Germany</td>\n",
       "      <td>452.744</td>\n",
       "      <td>71.5</td>\n",
       "    </tr>\n",
       "    <tr>\n",
       "      <th>17</th>\n",
       "      <td>1974</td>\n",
       "      <td>Japan</td>\n",
       "      <td>242.018</td>\n",
       "      <td>73.7</td>\n",
       "    </tr>\n",
       "    <tr>\n",
       "      <th>18</th>\n",
       "      <td>1974</td>\n",
       "      <td>USA</td>\n",
       "      <td>495.114</td>\n",
       "      <td>72.0</td>\n",
       "    </tr>\n",
       "    <tr>\n",
       "      <th>19</th>\n",
       "      <td>1975</td>\n",
       "      <td>Germany</td>\n",
       "      <td>532.481</td>\n",
       "      <td>71.4</td>\n",
       "    </tr>\n",
       "    <tr>\n",
       "      <th>20</th>\n",
       "      <td>1975</td>\n",
       "      <td>France</td>\n",
       "      <td>363.610</td>\n",
       "      <td>73.0</td>\n",
       "    </tr>\n",
       "    <tr>\n",
       "      <th>21</th>\n",
       "      <td>1975</td>\n",
       "      <td>Japan</td>\n",
       "      <td>284.269</td>\n",
       "      <td>74.3</td>\n",
       "    </tr>\n",
       "    <tr>\n",
       "      <th>22</th>\n",
       "      <td>1975</td>\n",
       "      <td>USA</td>\n",
       "      <td>560.750</td>\n",
       "      <td>72.7</td>\n",
       "    </tr>\n",
       "    <tr>\n",
       "      <th>23</th>\n",
       "      <td>1976</td>\n",
       "      <td>Canada</td>\n",
       "      <td>543.337</td>\n",
       "      <td>73.8</td>\n",
       "    </tr>\n",
       "    <tr>\n",
       "      <th>24</th>\n",
       "      <td>1976</td>\n",
       "      <td>Germany</td>\n",
       "      <td>591.098</td>\n",
       "      <td>71.8</td>\n",
       "    </tr>\n",
       "  </tbody>\n",
       "</table>\n",
       "</div>"
      ],
      "text/plain": [
       "    Year        Country  Spending_USD  Life_Expectancy\n",
       "0   1970        Germany       252.311             70.6\n",
       "1   1970         France       192.143             72.2\n",
       "2   1970  Great Britain       123.993             71.9\n",
       "3   1970          Japan       150.437             72.0\n",
       "4   1970            USA       326.961             70.9\n",
       "5   1971         Canada       313.391             72.8\n",
       "6   1971        Germany       298.251             70.8\n",
       "7   1971  Great Britain       134.172             71.9\n",
       "8   1971          Japan       163.854             72.9\n",
       "9   1971            USA       357.988             71.2\n",
       "10  1972        Germany       337.364             71.0\n",
       "11  1972          Japan       185.390             73.2\n",
       "12  1972            USA       397.097             71.2\n",
       "13  1973        Germany       384.541             71.3\n",
       "14  1973          Japan       205.778             73.4\n",
       "15  1973            USA       439.302             71.4\n",
       "16  1974        Germany       452.744             71.5\n",
       "17  1974          Japan       242.018             73.7\n",
       "18  1974            USA       495.114             72.0\n",
       "19  1975        Germany       532.481             71.4\n",
       "20  1975         France       363.610             73.0\n",
       "21  1975          Japan       284.269             74.3\n",
       "22  1975            USA       560.750             72.7\n",
       "23  1976         Canada       543.337             73.8\n",
       "24  1976        Germany       591.098             71.8"
      ]
     },
     "execution_count": 2,
     "metadata": {},
     "output_type": "execute_result"
    }
   ],
   "source": [
    "healthexp = sns.load_dataset(\"healthexp\")\n",
    "healthexp.head(25)"
   ]
  },
  {
   "cell_type": "code",
   "execution_count": 3,
   "metadata": {},
   "outputs": [],
   "source": [
    "healthexp = pd.get_dummies(healthexp)"
   ]
  },
  {
   "cell_type": "code",
   "execution_count": 4,
   "metadata": {},
   "outputs": [],
   "source": [
    "X = healthexp.drop([\"Life_Expectancy\"], axis=1)\n",
    "y = healthexp[\"Life_Expectancy\"]"
   ]
  },
  {
   "cell_type": "code",
   "execution_count": 5,
   "metadata": {},
   "outputs": [],
   "source": [
    "X_train, X_test, y_train, y_test = train_test_split(\n",
    "    X, y, test_size=0.2, random_state=19\n",
    ")"
   ]
  },
  {
   "cell_type": "code",
   "execution_count": 6,
   "metadata": {},
   "outputs": [],
   "source": [
    "rfr = RandomForestRegressor(random_state=13)\n",
    "rfr.fit(X_train, y_train)\n",
    "y_pred = rfr.predict(X_test)"
   ]
  },
  {
   "cell_type": "code",
   "execution_count": 7,
   "metadata": {},
   "outputs": [
    {
     "name": "stdout",
     "output_type": "stream",
     "text": [
      "0.25916363636361917\n",
      "0.10221141818181628\n",
      "0.9910457602615238\n"
     ]
    }
   ],
   "source": [
    "print(mean_absolute_error(y_test, y_pred))\n",
    "print(mean_squared_error(y_test, y_pred))\n",
    "print(r2_score(y_test, y_pred))"
   ]
  },
  {
   "cell_type": "code",
   "execution_count": 8,
   "metadata": {},
   "outputs": [],
   "source": [
    "def objective(trial):\n",
    "    n_estimators = trial.suggest_int(\"n_estimators\", 100, 1000)\n",
    "    max_depth = trial.suggest_int(\"max_depth\", 10, 50)\n",
    "    min_samples_split = trial.suggest_int(\"min_samples_split\", 2, 32)\n",
    "    min_samples_leaf = trial.suggest_int(\"min_samples_leaf\", 1, 32)\n",
    "\n",
    "    model = RandomForestRegressor(\n",
    "        n_estimators=n_estimators,\n",
    "        max_depth=max_depth,\n",
    "        min_samples_split=min_samples_split,\n",
    "        min_samples_leaf=min_samples_leaf,\n",
    "    )\n",
    "\n",
    "    score = cross_val_score(\n",
    "        model, X, y, n_jobs=-1, cv=5, scoring=\"neg_mean_squared_error\"\n",
    "    ).mean()\n",
    "    return score"
   ]
  },
  {
   "cell_type": "code",
   "execution_count": 9,
   "metadata": {},
   "outputs": [
    {
     "name": "stderr",
     "output_type": "stream",
     "text": [
      "[I 2024-09-17 13:59:15,639] A new study created in memory with name: no-name-d9c65cc6-65c2-472f-aa72-5368ab79c4f4\n"
     ]
    }
   ],
   "source": [
    "study = optuna.create_study(\n",
    "    direction=\"maximize\", sampler=optuna.samplers.RandomSampler(seed=42)\n",
    ")"
   ]
  },
  {
   "cell_type": "code",
   "execution_count": 10,
   "metadata": {},
   "outputs": [
    {
     "name": "stderr",
     "output_type": "stream",
     "text": [
      "[I 2024-09-17 13:59:26,581] Trial 0 finished with value: -4.492232889822825 and parameters: {'n_estimators': 437, 'max_depth': 48, 'min_samples_split': 24, 'min_samples_leaf': 20}. Best is trial 0 with value: -4.492232889822825.\n",
      "[I 2024-09-17 13:59:28,613] Trial 1 finished with value: -5.135907141854878 and parameters: {'n_estimators': 240, 'max_depth': 16, 'min_samples_split': 3, 'min_samples_leaf': 28}. Best is trial 0 with value: -4.492232889822825.\n",
      "[I 2024-09-17 13:59:34,145] Trial 2 finished with value: -5.547653344597071 and parameters: {'n_estimators': 641, 'max_depth': 39, 'min_samples_split': 2, 'min_samples_leaf': 32}. Best is trial 0 with value: -4.492232889822825.\n",
      "[I 2024-09-17 13:59:40,739] Trial 3 finished with value: -3.013679850017632 and parameters: {'n_estimators': 850, 'max_depth': 18, 'min_samples_split': 7, 'min_samples_leaf': 6}. Best is trial 3 with value: -3.013679850017632.\n",
      "[I 2024-09-17 13:59:42,558] Trial 4 finished with value: -3.828406881097854 and parameters: {'n_estimators': 374, 'max_depth': 31, 'min_samples_split': 15, 'min_samples_leaf': 10}. Best is trial 3 with value: -3.013679850017632.\n",
      "[I 2024-09-17 13:59:46,004] Trial 5 finished with value: -3.8829166856448536 and parameters: {'n_estimators': 651, 'max_depth': 15, 'min_samples_split': 11, 'min_samples_leaf': 12}. Best is trial 3 with value: -3.013679850017632.\n",
      "[I 2024-09-17 13:59:48,990] Trial 6 finished with value: -4.060210271570685 and parameters: {'n_estimators': 510, 'max_depth': 42, 'min_samples_split': 8, 'min_samples_leaf': 17}. Best is trial 3 with value: -3.013679850017632.\n",
      "[I 2024-09-17 13:59:52,017] Trial 7 finished with value: -3.258602070694553 and parameters: {'n_estimators': 633, 'max_depth': 11, 'min_samples_split': 20, 'min_samples_leaf': 6}. Best is trial 3 with value: -3.013679850017632.\n",
      "[I 2024-09-17 13:59:52,661] Trial 8 finished with value: -5.088763156085738 and parameters: {'n_estimators': 158, 'max_depth': 48, 'min_samples_split': 31, 'min_samples_leaf': 26}. Best is trial 3 with value: -3.013679850017632.\n",
      "[I 2024-09-17 13:59:54,372] Trial 9 finished with value: -3.954290323774856 and parameters: {'n_estimators': 374, 'max_depth': 14, 'min_samples_split': 23, 'min_samples_leaf': 15}. Best is trial 3 with value: -3.013679850017632.\n",
      "[I 2024-09-17 13:59:55,251] Trial 10 finished with value: -5.331837102830099 and parameters: {'n_estimators': 209, 'max_depth': 30, 'min_samples_split': 3, 'min_samples_leaf': 30}. Best is trial 3 with value: -3.013679850017632.\n",
      "[I 2024-09-17 13:59:57,128] Trial 11 finished with value: -4.043690984904937 and parameters: {'n_estimators': 333, 'max_depth': 37, 'min_samples_split': 11, 'min_samples_leaf': 17}. Best is trial 3 with value: -3.013679850017632.\n",
      "[I 2024-09-17 14:00:00,284] Trial 12 finished with value: -5.022010413835533 and parameters: {'n_estimators': 592, 'max_depth': 17, 'min_samples_split': 32, 'min_samples_leaf': 25}. Best is trial 3 with value: -3.013679850017632.\n",
      "[I 2024-09-17 14:00:05,117] Trial 13 finished with value: -5.333432121477555 and parameters: {'n_estimators': 946, 'max_depth': 46, 'min_samples_split': 20, 'min_samples_leaf': 30}. Best is trial 3 with value: -3.013679850017632.\n",
      "[I 2024-09-17 14:00:06,040] Trial 14 finished with value: -3.85651660150936 and parameters: {'n_estimators': 179, 'max_depth': 18, 'min_samples_split': 3, 'min_samples_leaf': 11}. Best is trial 3 with value: -3.013679850017632.\n",
      "[I 2024-09-17 14:00:08,399] Trial 15 finished with value: -3.9006960791282026 and parameters: {'n_estimators': 450, 'max_depth': 21, 'min_samples_split': 27, 'min_samples_leaf': 12}. Best is trial 3 with value: -3.013679850017632.\n",
      "[I 2024-09-17 14:00:10,038] Trial 16 finished with value: -5.104698872846437 and parameters: {'n_estimators': 353, 'max_depth': 32, 'min_samples_split': 6, 'min_samples_leaf': 26}. Best is trial 3 with value: -3.013679850017632.\n",
      "[I 2024-09-17 14:00:10,846] Trial 17 finished with value: -3.5908076549436294 and parameters: {'n_estimators': 167, 'max_depth': 50, 'min_samples_split': 25, 'min_samples_leaf': 7}. Best is trial 3 with value: -3.013679850017632.\n",
      "[I 2024-09-17 14:00:11,428] Trial 18 finished with value: -4.92555999351435 and parameters: {'n_estimators': 104, 'max_depth': 43, 'min_samples_split': 23, 'min_samples_leaf': 24}. Best is trial 3 with value: -3.013679850017632.\n",
      "[I 2024-09-17 14:00:15,256] Trial 19 finished with value: -2.677635432495068 and parameters: {'n_estimators': 794, 'max_depth': 13, 'min_samples_split': 13, 'min_samples_leaf': 4}. Best is trial 19 with value: -2.677635432495068.\n",
      "[I 2024-09-17 14:00:20,768] Trial 20 finished with value: -2.5272575861297812 and parameters: {'n_estimators': 877, 'max_depth': 35, 'min_samples_split': 12, 'min_samples_leaf': 3}. Best is trial 20 with value: -2.5272575861297812.\n",
      "[I 2024-09-17 14:00:22,479] Trial 21 finished with value: -4.694726707779843 and parameters: {'n_estimators': 380, 'max_depth': 23, 'min_samples_split': 24, 'min_samples_leaf': 21}. Best is trial 20 with value: -2.5272575861297812.\n",
      "[I 2024-09-17 14:00:26,084] Trial 22 finished with value: -4.844778150501353 and parameters: {'n_estimators': 899, 'max_depth': 29, 'min_samples_split': 5, 'min_samples_leaf': 23}. Best is trial 20 with value: -2.5272575861297812.\n",
      "[I 2024-09-17 14:00:29,234] Trial 23 finished with value: -3.988427583792504 and parameters: {'n_estimators': 785, 'max_depth': 33, 'min_samples_split': 25, 'min_samples_leaf': 16}. Best is trial 20 with value: -2.5272575861297812.\n",
      "[I 2024-09-17 14:00:32,179] Trial 24 finished with value: -2.370159618091831 and parameters: {'n_estimators': 570, 'max_depth': 27, 'min_samples_split': 2, 'min_samples_leaf': 4}. Best is trial 24 with value: -2.370159618091831.\n",
      "[I 2024-09-17 14:00:32,736] Trial 25 finished with value: -4.050999610922298 and parameters: {'n_estimators': 128, 'max_depth': 36, 'min_samples_split': 11, 'min_samples_leaf': 17}. Best is trial 24 with value: -2.370159618091831.\n",
      "[I 2024-09-17 14:00:37,410] Trial 26 finished with value: -4.9947927167071 and parameters: {'n_estimators': 917, 'max_depth': 20, 'min_samples_split': 14, 'min_samples_leaf': 25}. Best is trial 24 with value: -2.370159618091831.\n",
      "[I 2024-09-17 14:00:39,177] Trial 27 finished with value: -3.016779347943916 and parameters: {'n_estimators': 306, 'max_depth': 13, 'min_samples_split': 10, 'min_samples_leaf': 6}. Best is trial 24 with value: -2.370159618091831.\n",
      "[I 2024-09-17 14:00:43,484] Trial 28 finished with value: -5.177020754715311 and parameters: {'n_estimators': 937, 'max_depth': 43, 'min_samples_split': 21, 'min_samples_leaf': 28}. Best is trial 24 with value: -2.370159618091831.\n",
      "[I 2024-09-17 14:00:48,998] Trial 29 finished with value: -4.217895899189275 and parameters: {'n_estimators': 824, 'max_depth': 17, 'min_samples_split': 29, 'min_samples_leaf': 18}. Best is trial 24 with value: -2.370159618091831.\n",
      "[I 2024-09-17 14:00:55,184] Trial 30 finished with value: -2.530846580328416 and parameters: {'n_estimators': 827, 'max_depth': 46, 'min_samples_split': 11, 'min_samples_leaf': 4}. Best is trial 24 with value: -2.370159618091831.\n",
      "[I 2024-09-17 14:00:56,764] Trial 31 finished with value: -5.210105676771522 and parameters: {'n_estimators': 305, 'max_depth': 27, 'min_samples_split': 27, 'min_samples_leaf': 28}. Best is trial 24 with value: -2.370159618091831.\n",
      "[I 2024-09-17 14:00:57,417] Trial 32 finished with value: -3.6460824112428263 and parameters: {'n_estimators': 106, 'max_depth': 30, 'min_samples_split': 14, 'min_samples_leaf': 8}. Best is trial 24 with value: -2.370159618091831.\n",
      "[I 2024-09-17 14:00:58,551] Trial 33 finished with value: -3.9047763011958536 and parameters: {'n_estimators': 207, 'max_depth': 23, 'min_samples_split': 31, 'min_samples_leaf': 11}. Best is trial 24 with value: -2.370159618091831.\n",
      "[I 2024-09-17 14:01:01,733] Trial 34 finished with value: -5.560513511969064 and parameters: {'n_estimators': 567, 'max_depth': 38, 'min_samples_split': 13, 'min_samples_leaf': 32}. Best is trial 24 with value: -2.370159618091831.\n",
      "[I 2024-09-17 14:01:07,237] Trial 35 finished with value: -3.798468156846223 and parameters: {'n_estimators': 967, 'max_depth': 20, 'min_samples_split': 17, 'min_samples_leaf': 10}. Best is trial 24 with value: -2.370159618091831.\n",
      "[I 2024-09-17 14:01:09,368] Trial 36 finished with value: -4.087542551458808 and parameters: {'n_estimators': 356, 'max_depth': 11, 'min_samples_split': 20, 'min_samples_leaf': 17}. Best is trial 24 with value: -2.370159618091831.\n",
      "[I 2024-09-17 14:01:10,612] Trial 37 finished with value: -3.783385455177361 and parameters: {'n_estimators': 146, 'max_depth': 21, 'min_samples_split': 30, 'min_samples_leaf': 8}. Best is trial 24 with value: -2.370159618091831.\n",
      "[I 2024-09-17 14:01:12,266] Trial 38 finished with value: -3.8047660944542026 and parameters: {'n_estimators': 230, 'max_depth': 30, 'min_samples_split': 32, 'min_samples_leaf': 8}. Best is trial 24 with value: -2.370159618091831.\n",
      "[I 2024-09-17 14:01:17,411] Trial 39 finished with value: -4.955671023312275 and parameters: {'n_estimators': 705, 'max_depth': 41, 'min_samples_split': 9, 'min_samples_leaf': 24}. Best is trial 24 with value: -2.370159618091831.\n",
      "[I 2024-09-17 14:01:20,482] Trial 40 finished with value: -4.234788658795308 and parameters: {'n_estimators': 431, 'max_depth': 35, 'min_samples_split': 21, 'min_samples_leaf': 18}. Best is trial 24 with value: -2.370159618091831.\n",
      "[I 2024-09-17 14:01:22,158] Trial 41 finished with value: -2.9681351920281376 and parameters: {'n_estimators': 181, 'max_depth': 44, 'min_samples_split': 11, 'min_samples_leaf': 6}. Best is trial 24 with value: -2.370159618091831.\n",
      "[I 2024-09-17 14:01:23,359] Trial 42 finished with value: -3.1577213538242397 and parameters: {'n_estimators': 136, 'max_depth': 34, 'min_samples_split': 23, 'min_samples_leaf': 1}. Best is trial 24 with value: -2.370159618091831.\n",
      "[I 2024-09-17 14:01:28,133] Trial 43 finished with value: -3.2915272048236126 and parameters: {'n_estimators': 561, 'max_depth': 19, 'min_samples_split': 22, 'min_samples_leaf': 6}. Best is trial 24 with value: -2.370159618091831.\n",
      "[I 2024-09-17 14:01:34,918] Trial 44 finished with value: -3.530086532786794 and parameters: {'n_estimators': 722, 'max_depth': 25, 'min_samples_split': 31, 'min_samples_leaf': 5}. Best is trial 24 with value: -2.370159618091831.\n",
      "[I 2024-09-17 14:01:38,868] Trial 45 finished with value: -5.206813020918366 and parameters: {'n_estimators': 407, 'max_depth': 14, 'min_samples_split': 30, 'min_samples_leaf': 29}. Best is trial 24 with value: -2.370159618091831.\n",
      "[I 2024-09-17 14:01:41,084] Trial 46 finished with value: -4.239164219589467 and parameters: {'n_estimators': 332, 'max_depth': 37, 'min_samples_split': 27, 'min_samples_leaf': 18}. Best is trial 24 with value: -2.370159618091831.\n",
      "[I 2024-09-17 14:01:44,622] Trial 47 finished with value: -5.293079275701154 and parameters: {'n_estimators': 577, 'max_depth': 19, 'min_samples_split': 4, 'min_samples_leaf': 29}. Best is trial 24 with value: -2.370159618091831.\n",
      "[I 2024-09-17 14:01:51,389] Trial 48 finished with value: -3.8438907770984194 and parameters: {'n_estimators': 911, 'max_depth': 35, 'min_samples_split': 12, 'min_samples_leaf': 12}. Best is trial 24 with value: -2.370159618091831.\n",
      "[I 2024-09-17 14:01:56,248] Trial 49 finished with value: -5.008992524164933 and parameters: {'n_estimators': 754, 'max_depth': 46, 'min_samples_split': 29, 'min_samples_leaf': 25}. Best is trial 24 with value: -2.370159618091831.\n",
      "[I 2024-09-17 14:02:00,270] Trial 50 finished with value: -5.253159684468904 and parameters: {'n_estimators': 678, 'max_depth': 13, 'min_samples_split': 7, 'min_samples_leaf': 29}. Best is trial 24 with value: -2.370159618091831.\n",
      "[I 2024-09-17 14:02:05,715] Trial 51 finished with value: -4.773570347498039 and parameters: {'n_estimators': 646, 'max_depth': 10, 'min_samples_split': 5, 'min_samples_leaf': 22}. Best is trial 24 with value: -2.370159618091831.\n",
      "[I 2024-09-17 14:02:06,425] Trial 52 finished with value: -4.930153477414815 and parameters: {'n_estimators': 104, 'max_depth': 16, 'min_samples_split': 19, 'min_samples_leaf': 23}. Best is trial 24 with value: -2.370159618091831.\n",
      "[I 2024-09-17 14:02:09,730] Trial 53 finished with value: -3.588573826858159 and parameters: {'n_estimators': 687, 'max_depth': 19, 'min_samples_split': 24, 'min_samples_leaf': 8}. Best is trial 24 with value: -2.370159618091831.\n",
      "[I 2024-09-17 14:02:11,527] Trial 54 finished with value: -5.145587409951811 and parameters: {'n_estimators': 393, 'max_depth': 40, 'min_samples_split': 22, 'min_samples_leaf': 28}. Best is trial 24 with value: -2.370159618091831.\n",
      "[I 2024-09-17 14:02:14,732] Trial 55 finished with value: -3.850274215772297 and parameters: {'n_estimators': 692, 'max_depth': 33, 'min_samples_split': 4, 'min_samples_leaf': 12}. Best is trial 24 with value: -2.370159618091831.\n",
      "[I 2024-09-17 14:02:16,367] Trial 56 finished with value: -3.9017311718752623 and parameters: {'n_estimators': 338, 'max_depth': 20, 'min_samples_split': 32, 'min_samples_leaf': 13}. Best is trial 24 with value: -2.370159618091831.\n",
      "[I 2024-09-17 14:02:20,190] Trial 57 finished with value: -4.076106497174095 and parameters: {'n_estimators': 903, 'max_depth': 35, 'min_samples_split': 26, 'min_samples_leaf': 17}. Best is trial 24 with value: -2.370159618091831.\n",
      "[I 2024-09-17 14:02:22,797] Trial 58 finished with value: -4.939741364995378 and parameters: {'n_estimators': 619, 'max_depth': 30, 'min_samples_split': 8, 'min_samples_leaf': 24}. Best is trial 24 with value: -2.370159618091831.\n",
      "[I 2024-09-17 14:02:24,369] Trial 59 finished with value: -3.3076402344082774 and parameters: {'n_estimators': 352, 'max_depth': 10, 'min_samples_split': 22, 'min_samples_leaf': 6}. Best is trial 24 with value: -2.370159618091831.\n",
      "[I 2024-09-17 14:02:28,350] Trial 60 finished with value: -3.8483133518271244 and parameters: {'n_estimators': 947, 'max_depth': 49, 'min_samples_split': 30, 'min_samples_leaf': 12}. Best is trial 24 with value: -2.370159618091831.\n",
      "[I 2024-09-17 14:02:28,855] Trial 61 finished with value: -5.446452853608433 and parameters: {'n_estimators': 113, 'max_depth': 48, 'min_samples_split': 15, 'min_samples_leaf': 31}. Best is trial 24 with value: -2.370159618091831.\n",
      "[I 2024-09-17 14:02:32,959] Trial 62 finished with value: -3.860516094642802 and parameters: {'n_estimators': 968, 'max_depth': 44, 'min_samples_split': 11, 'min_samples_leaf': 13}. Best is trial 24 with value: -2.370159618091831.\n",
      "[I 2024-09-17 14:02:37,106] Trial 63 finished with value: -4.222327504961659 and parameters: {'n_estimators': 866, 'max_depth': 22, 'min_samples_split': 7, 'min_samples_leaf': 18}. Best is trial 24 with value: -2.370159618091831.\n",
      "[I 2024-09-17 14:02:41,749] Trial 64 finished with value: -2.9873550682429184 and parameters: {'n_estimators': 943, 'max_depth': 38, 'min_samples_split': 19, 'min_samples_leaf': 4}. Best is trial 24 with value: -2.370159618091831.\n",
      "[I 2024-09-17 14:02:44,738] Trial 65 finished with value: -4.035648062914617 and parameters: {'n_estimators': 654, 'max_depth': 50, 'min_samples_split': 6, 'min_samples_leaf': 17}. Best is trial 24 with value: -2.370159618091831.\n",
      "[I 2024-09-17 14:02:48,693] Trial 66 finished with value: -4.8378644313975565 and parameters: {'n_estimators': 890, 'max_depth': 40, 'min_samples_split': 23, 'min_samples_leaf': 23}. Best is trial 24 with value: -2.370159618091831.\n",
      "[I 2024-09-17 14:02:50,500] Trial 67 finished with value: -5.076562396343503 and parameters: {'n_estimators': 423, 'max_depth': 22, 'min_samples_split': 27, 'min_samples_leaf': 26}. Best is trial 24 with value: -2.370159618091831.\n",
      "[I 2024-09-17 14:02:54,400] Trial 68 finished with value: -4.095593721902541 and parameters: {'n_estimators': 881, 'max_depth': 47, 'min_samples_split': 17, 'min_samples_leaf': 17}. Best is trial 24 with value: -2.370159618091831.\n",
      "[I 2024-09-17 14:02:57,996] Trial 69 finished with value: -5.044000484021469 and parameters: {'n_estimators': 819, 'max_depth': 36, 'min_samples_split': 23, 'min_samples_leaf': 26}. Best is trial 24 with value: -2.370159618091831.\n",
      "[I 2024-09-17 14:03:02,331] Trial 70 finished with value: -2.6652100674244474 and parameters: {'n_estimators': 901, 'max_depth': 23, 'min_samples_split': 13, 'min_samples_leaf': 4}. Best is trial 24 with value: -2.370159618091831.\n",
      "[I 2024-09-17 14:03:05,091] Trial 71 finished with value: -4.205403918009409 and parameters: {'n_estimators': 621, 'max_depth': 11, 'min_samples_split': 16, 'min_samples_leaf': 18}. Best is trial 24 with value: -2.370159618091831.\n",
      "[I 2024-09-17 14:03:06,941] Trial 72 finished with value: -1.863961406794094 and parameters: {'n_estimators': 358, 'max_depth': 34, 'min_samples_split': 2, 'min_samples_leaf': 2}. Best is trial 72 with value: -1.863961406794094.\n",
      "[I 2024-09-17 14:03:10,892] Trial 73 finished with value: -4.0532715257969 and parameters: {'n_estimators': 841, 'max_depth': 24, 'min_samples_split': 5, 'min_samples_leaf': 17}. Best is trial 72 with value: -1.863961406794094.\n",
      "[I 2024-09-17 14:03:14,639] Trial 74 finished with value: -3.058670925005253 and parameters: {'n_estimators': 793, 'max_depth': 18, 'min_samples_split': 21, 'min_samples_leaf': 3}. Best is trial 72 with value: -1.863961406794094.\n",
      "[I 2024-09-17 14:03:15,344] Trial 75 finished with value: -4.655216671672115 and parameters: {'n_estimators': 146, 'max_depth': 31, 'min_samples_split': 18, 'min_samples_leaf': 21}. Best is trial 72 with value: -1.863961406794094.\n",
      "[I 2024-09-17 14:03:18,719] Trial 76 finished with value: -3.7906250963251487 and parameters: {'n_estimators': 754, 'max_depth': 50, 'min_samples_split': 18, 'min_samples_leaf': 11}. Best is trial 72 with value: -1.863961406794094.\n",
      "[I 2024-09-17 14:03:22,667] Trial 77 finished with value: -2.735846167833211 and parameters: {'n_estimators': 816, 'max_depth': 21, 'min_samples_split': 15, 'min_samples_leaf': 3}. Best is trial 72 with value: -1.863961406794094.\n",
      "[I 2024-09-17 14:03:23,245] Trial 78 finished with value: -4.919924495055311 and parameters: {'n_estimators': 122, 'max_depth': 49, 'min_samples_split': 27, 'min_samples_leaf': 23}. Best is trial 72 with value: -1.863961406794094.\n",
      "[I 2024-09-17 14:03:25,478] Trial 79 finished with value: -3.7544111701924647 and parameters: {'n_estimators': 468, 'max_depth': 17, 'min_samples_split': 6, 'min_samples_leaf': 9}. Best is trial 72 with value: -1.863961406794094.\n",
      "[I 2024-09-17 14:03:28,245] Trial 80 finished with value: -3.7187762378447196 and parameters: {'n_estimators': 594, 'max_depth': 39, 'min_samples_split': 22, 'min_samples_leaf': 9}. Best is trial 72 with value: -1.863961406794094.\n",
      "[I 2024-09-17 14:03:32,572] Trial 81 finished with value: -4.520379504593625 and parameters: {'n_estimators': 960, 'max_depth': 40, 'min_samples_split': 19, 'min_samples_leaf': 20}. Best is trial 72 with value: -1.863961406794094.\n",
      "[I 2024-09-17 14:03:34,714] Trial 82 finished with value: -5.034774884565431 and parameters: {'n_estimators': 478, 'max_depth': 20, 'min_samples_split': 13, 'min_samples_leaf': 25}. Best is trial 72 with value: -1.863961406794094.\n",
      "[I 2024-09-17 14:03:35,359] Trial 83 finished with value: -1.9410817334892883 and parameters: {'n_estimators': 112, 'max_depth': 14, 'min_samples_split': 3, 'min_samples_leaf': 2}. Best is trial 72 with value: -1.863961406794094.\n",
      "[I 2024-09-17 14:03:39,594] Trial 84 finished with value: -2.8375918098614643 and parameters: {'n_estimators': 870, 'max_depth': 38, 'min_samples_split': 16, 'min_samples_leaf': 4}. Best is trial 72 with value: -1.863961406794094.\n",
      "[I 2024-09-17 14:03:42,081] Trial 85 finished with value: -3.8794991770528684 and parameters: {'n_estimators': 542, 'max_depth': 29, 'min_samples_split': 7, 'min_samples_leaf': 14}. Best is trial 72 with value: -1.863961406794094.\n",
      "[I 2024-09-17 14:03:44,317] Trial 86 finished with value: -3.0790675975934256 and parameters: {'n_estimators': 459, 'max_depth': 35, 'min_samples_split': 21, 'min_samples_leaf': 2}. Best is trial 72 with value: -1.863961406794094.\n",
      "[I 2024-09-17 14:03:46,392] Trial 87 finished with value: -5.204415077506878 and parameters: {'n_estimators': 437, 'max_depth': 35, 'min_samples_split': 17, 'min_samples_leaf': 28}. Best is trial 72 with value: -1.863961406794094.\n",
      "[I 2024-09-17 14:03:49,431] Trial 88 finished with value: -4.66385533922328 and parameters: {'n_estimators': 693, 'max_depth': 16, 'min_samples_split': 4, 'min_samples_leaf': 21}. Best is trial 72 with value: -1.863961406794094.\n",
      "[I 2024-09-17 14:03:50,136] Trial 89 finished with value: -4.2534098732991925 and parameters: {'n_estimators': 123, 'max_depth': 34, 'min_samples_split': 31, 'min_samples_leaf': 19}. Best is trial 72 with value: -1.863961406794094.\n",
      "[I 2024-09-17 14:03:52,187] Trial 90 finished with value: -4.16997497769295 and parameters: {'n_estimators': 449, 'max_depth': 36, 'min_samples_split': 16, 'min_samples_leaf': 18}. Best is trial 72 with value: -1.863961406794094.\n",
      "[I 2024-09-17 14:03:56,452] Trial 91 finished with value: -5.2683152449829835 and parameters: {'n_estimators': 948, 'max_depth': 25, 'min_samples_split': 31, 'min_samples_leaf': 29}. Best is trial 72 with value: -1.863961406794094.\n",
      "[I 2024-09-17 14:03:57,900] Trial 92 finished with value: -1.9202193893592425 and parameters: {'n_estimators': 276, 'max_depth': 12, 'min_samples_split': 5, 'min_samples_leaf': 1}. Best is trial 72 with value: -1.863961406794094.\n",
      "[I 2024-09-17 14:03:58,798] Trial 93 finished with value: -3.9038831296737677 and parameters: {'n_estimators': 185, 'max_depth': 38, 'min_samples_split': 4, 'min_samples_leaf': 11}. Best is trial 72 with value: -1.863961406794094.\n",
      "[I 2024-09-17 14:04:02,584] Trial 94 finished with value: -3.7894542951133636 and parameters: {'n_estimators': 861, 'max_depth': 10, 'min_samples_split': 27, 'min_samples_leaf': 10}. Best is trial 72 with value: -1.863961406794094.\n",
      "[I 2024-09-17 14:04:03,505] Trial 95 finished with value: -5.3220008159955166 and parameters: {'n_estimators': 206, 'max_depth': 38, 'min_samples_split': 21, 'min_samples_leaf': 29}. Best is trial 72 with value: -1.863961406794094.\n",
      "[I 2024-09-17 14:04:07,029] Trial 96 finished with value: -3.0355290622352085 and parameters: {'n_estimators': 762, 'max_depth': 42, 'min_samples_split': 10, 'min_samples_leaf': 6}. Best is trial 72 with value: -1.863961406794094.\n",
      "[I 2024-09-17 14:04:10,510] Trial 97 finished with value: -3.894680434113267 and parameters: {'n_estimators': 776, 'max_depth': 43, 'min_samples_split': 32, 'min_samples_leaf': 14}. Best is trial 72 with value: -1.863961406794094.\n",
      "[I 2024-09-17 14:04:12,481] Trial 98 finished with value: -5.301746685021605 and parameters: {'n_estimators': 435, 'max_depth': 41, 'min_samples_split': 12, 'min_samples_leaf': 30}. Best is trial 72 with value: -1.863961406794094.\n",
      "[I 2024-09-17 14:04:16,155] Trial 99 finished with value: -4.979454027441929 and parameters: {'n_estimators': 873, 'max_depth': 27, 'min_samples_split': 25, 'min_samples_leaf': 25}. Best is trial 72 with value: -1.863961406794094.\n"
     ]
    }
   ],
   "source": [
    "study.optimize(objective, n_trials=100)"
   ]
  },
  {
   "cell_type": "code",
   "execution_count": 11,
   "metadata": {},
   "outputs": [
    {
     "name": "stdout",
     "output_type": "stream",
     "text": [
      "Best Hyperparameters: {'n_estimators': 358, 'max_depth': 34, 'min_samples_split': 2, 'min_samples_leaf': 2}\n",
      "Best Accuracy: -1.864\n"
     ]
    }
   ],
   "source": [
    "best_params = study.best_params\n",
    "best_score = study.best_value\n",
    "print(f\"Best Hyperparameters: {best_params}\")\n",
    "print(f\"Best Accuracy: {best_score:.3f}\")"
   ]
  },
  {
   "cell_type": "code",
   "execution_count": 12,
   "metadata": {},
   "outputs": [
    {
     "data": {
      "application/vnd.plotly.v1+json": {
       "config": {
        "plotlyServerURL": "https://plot.ly"
       },
       "data": [
        {
         "mode": "markers",
         "name": "Objective Value",
         "type": "scatter",
         "x": [
          0,
          1,
          2,
          3,
          4,
          5,
          6,
          7,
          8,
          9,
          10,
          11,
          12,
          13,
          14,
          15,
          16,
          17,
          18,
          19,
          20,
          21,
          22,
          23,
          24,
          25,
          26,
          27,
          28,
          29,
          30,
          31,
          32,
          33,
          34,
          35,
          36,
          37,
          38,
          39,
          40,
          41,
          42,
          43,
          44,
          45,
          46,
          47,
          48,
          49,
          50,
          51,
          52,
          53,
          54,
          55,
          56,
          57,
          58,
          59,
          60,
          61,
          62,
          63,
          64,
          65,
          66,
          67,
          68,
          69,
          70,
          71,
          72,
          73,
          74,
          75,
          76,
          77,
          78,
          79,
          80,
          81,
          82,
          83,
          84,
          85,
          86,
          87,
          88,
          89,
          90,
          91,
          92,
          93,
          94,
          95,
          96,
          97,
          98,
          99
         ],
         "y": [
          -4.492232889822825,
          -5.135907141854878,
          -5.547653344597071,
          -3.013679850017632,
          -3.828406881097854,
          -3.8829166856448536,
          -4.060210271570685,
          -3.258602070694553,
          -5.088763156085738,
          -3.954290323774856,
          -5.331837102830099,
          -4.043690984904937,
          -5.022010413835533,
          -5.333432121477555,
          -3.85651660150936,
          -3.9006960791282026,
          -5.104698872846437,
          -3.5908076549436294,
          -4.92555999351435,
          -2.677635432495068,
          -2.5272575861297812,
          -4.694726707779843,
          -4.844778150501353,
          -3.988427583792504,
          -2.370159618091831,
          -4.050999610922298,
          -4.9947927167071,
          -3.016779347943916,
          -5.177020754715311,
          -4.217895899189275,
          -2.530846580328416,
          -5.210105676771522,
          -3.6460824112428263,
          -3.9047763011958536,
          -5.560513511969064,
          -3.798468156846223,
          -4.087542551458808,
          -3.783385455177361,
          -3.8047660944542026,
          -4.955671023312275,
          -4.234788658795308,
          -2.9681351920281376,
          -3.1577213538242397,
          -3.2915272048236126,
          -3.530086532786794,
          -5.206813020918366,
          -4.239164219589467,
          -5.293079275701154,
          -3.8438907770984194,
          -5.008992524164933,
          -5.253159684468904,
          -4.773570347498039,
          -4.930153477414815,
          -3.588573826858159,
          -5.145587409951811,
          -3.850274215772297,
          -3.9017311718752623,
          -4.076106497174095,
          -4.939741364995378,
          -3.3076402344082774,
          -3.8483133518271244,
          -5.446452853608433,
          -3.860516094642802,
          -4.222327504961659,
          -2.9873550682429184,
          -4.035648062914617,
          -4.8378644313975565,
          -5.076562396343503,
          -4.095593721902541,
          -5.044000484021469,
          -2.6652100674244474,
          -4.205403918009409,
          -1.863961406794094,
          -4.0532715257969,
          -3.058670925005253,
          -4.655216671672115,
          -3.7906250963251487,
          -2.735846167833211,
          -4.919924495055311,
          -3.7544111701924647,
          -3.7187762378447196,
          -4.520379504593625,
          -5.034774884565431,
          -1.9410817334892883,
          -2.8375918098614643,
          -3.8794991770528684,
          -3.0790675975934256,
          -5.204415077506878,
          -4.66385533922328,
          -4.2534098732991925,
          -4.16997497769295,
          -5.2683152449829835,
          -1.9202193893592425,
          -3.9038831296737677,
          -3.7894542951133636,
          -5.3220008159955166,
          -3.0355290622352085,
          -3.894680434113267,
          -5.301746685021605,
          -4.979454027441929
         ]
        },
        {
         "mode": "lines",
         "name": "Best Value",
         "type": "scatter",
         "x": [
          0,
          1,
          2,
          3,
          4,
          5,
          6,
          7,
          8,
          9,
          10,
          11,
          12,
          13,
          14,
          15,
          16,
          17,
          18,
          19,
          20,
          21,
          22,
          23,
          24,
          25,
          26,
          27,
          28,
          29,
          30,
          31,
          32,
          33,
          34,
          35,
          36,
          37,
          38,
          39,
          40,
          41,
          42,
          43,
          44,
          45,
          46,
          47,
          48,
          49,
          50,
          51,
          52,
          53,
          54,
          55,
          56,
          57,
          58,
          59,
          60,
          61,
          62,
          63,
          64,
          65,
          66,
          67,
          68,
          69,
          70,
          71,
          72,
          73,
          74,
          75,
          76,
          77,
          78,
          79,
          80,
          81,
          82,
          83,
          84,
          85,
          86,
          87,
          88,
          89,
          90,
          91,
          92,
          93,
          94,
          95,
          96,
          97,
          98,
          99
         ],
         "y": [
          -4.492232889822825,
          -4.492232889822825,
          -4.492232889822825,
          -3.013679850017632,
          -3.013679850017632,
          -3.013679850017632,
          -3.013679850017632,
          -3.013679850017632,
          -3.013679850017632,
          -3.013679850017632,
          -3.013679850017632,
          -3.013679850017632,
          -3.013679850017632,
          -3.013679850017632,
          -3.013679850017632,
          -3.013679850017632,
          -3.013679850017632,
          -3.013679850017632,
          -3.013679850017632,
          -2.677635432495068,
          -2.5272575861297812,
          -2.5272575861297812,
          -2.5272575861297812,
          -2.5272575861297812,
          -2.370159618091831,
          -2.370159618091831,
          -2.370159618091831,
          -2.370159618091831,
          -2.370159618091831,
          -2.370159618091831,
          -2.370159618091831,
          -2.370159618091831,
          -2.370159618091831,
          -2.370159618091831,
          -2.370159618091831,
          -2.370159618091831,
          -2.370159618091831,
          -2.370159618091831,
          -2.370159618091831,
          -2.370159618091831,
          -2.370159618091831,
          -2.370159618091831,
          -2.370159618091831,
          -2.370159618091831,
          -2.370159618091831,
          -2.370159618091831,
          -2.370159618091831,
          -2.370159618091831,
          -2.370159618091831,
          -2.370159618091831,
          -2.370159618091831,
          -2.370159618091831,
          -2.370159618091831,
          -2.370159618091831,
          -2.370159618091831,
          -2.370159618091831,
          -2.370159618091831,
          -2.370159618091831,
          -2.370159618091831,
          -2.370159618091831,
          -2.370159618091831,
          -2.370159618091831,
          -2.370159618091831,
          -2.370159618091831,
          -2.370159618091831,
          -2.370159618091831,
          -2.370159618091831,
          -2.370159618091831,
          -2.370159618091831,
          -2.370159618091831,
          -2.370159618091831,
          -2.370159618091831,
          -1.863961406794094,
          -1.863961406794094,
          -1.863961406794094,
          -1.863961406794094,
          -1.863961406794094,
          -1.863961406794094,
          -1.863961406794094,
          -1.863961406794094,
          -1.863961406794094,
          -1.863961406794094,
          -1.863961406794094,
          -1.863961406794094,
          -1.863961406794094,
          -1.863961406794094,
          -1.863961406794094,
          -1.863961406794094,
          -1.863961406794094,
          -1.863961406794094,
          -1.863961406794094,
          -1.863961406794094,
          -1.863961406794094,
          -1.863961406794094,
          -1.863961406794094,
          -1.863961406794094,
          -1.863961406794094,
          -1.863961406794094,
          -1.863961406794094,
          -1.863961406794094
         ]
        },
        {
         "marker": {
          "color": "#cccccc"
         },
         "mode": "markers",
         "name": "Infeasible Trial",
         "showlegend": false,
         "type": "scatter",
         "x": [],
         "y": []
        }
       ],
       "layout": {
        "template": {
         "data": {
          "bar": [
           {
            "error_x": {
             "color": "#2a3f5f"
            },
            "error_y": {
             "color": "#2a3f5f"
            },
            "marker": {
             "line": {
              "color": "#E5ECF6",
              "width": 0.5
             },
             "pattern": {
              "fillmode": "overlay",
              "size": 10,
              "solidity": 0.2
             }
            },
            "type": "bar"
           }
          ],
          "barpolar": [
           {
            "marker": {
             "line": {
              "color": "#E5ECF6",
              "width": 0.5
             },
             "pattern": {
              "fillmode": "overlay",
              "size": 10,
              "solidity": 0.2
             }
            },
            "type": "barpolar"
           }
          ],
          "carpet": [
           {
            "aaxis": {
             "endlinecolor": "#2a3f5f",
             "gridcolor": "white",
             "linecolor": "white",
             "minorgridcolor": "white",
             "startlinecolor": "#2a3f5f"
            },
            "baxis": {
             "endlinecolor": "#2a3f5f",
             "gridcolor": "white",
             "linecolor": "white",
             "minorgridcolor": "white",
             "startlinecolor": "#2a3f5f"
            },
            "type": "carpet"
           }
          ],
          "choropleth": [
           {
            "colorbar": {
             "outlinewidth": 0,
             "ticks": ""
            },
            "type": "choropleth"
           }
          ],
          "contour": [
           {
            "colorbar": {
             "outlinewidth": 0,
             "ticks": ""
            },
            "colorscale": [
             [
              0,
              "#0d0887"
             ],
             [
              0.1111111111111111,
              "#46039f"
             ],
             [
              0.2222222222222222,
              "#7201a8"
             ],
             [
              0.3333333333333333,
              "#9c179e"
             ],
             [
              0.4444444444444444,
              "#bd3786"
             ],
             [
              0.5555555555555556,
              "#d8576b"
             ],
             [
              0.6666666666666666,
              "#ed7953"
             ],
             [
              0.7777777777777778,
              "#fb9f3a"
             ],
             [
              0.8888888888888888,
              "#fdca26"
             ],
             [
              1,
              "#f0f921"
             ]
            ],
            "type": "contour"
           }
          ],
          "contourcarpet": [
           {
            "colorbar": {
             "outlinewidth": 0,
             "ticks": ""
            },
            "type": "contourcarpet"
           }
          ],
          "heatmap": [
           {
            "colorbar": {
             "outlinewidth": 0,
             "ticks": ""
            },
            "colorscale": [
             [
              0,
              "#0d0887"
             ],
             [
              0.1111111111111111,
              "#46039f"
             ],
             [
              0.2222222222222222,
              "#7201a8"
             ],
             [
              0.3333333333333333,
              "#9c179e"
             ],
             [
              0.4444444444444444,
              "#bd3786"
             ],
             [
              0.5555555555555556,
              "#d8576b"
             ],
             [
              0.6666666666666666,
              "#ed7953"
             ],
             [
              0.7777777777777778,
              "#fb9f3a"
             ],
             [
              0.8888888888888888,
              "#fdca26"
             ],
             [
              1,
              "#f0f921"
             ]
            ],
            "type": "heatmap"
           }
          ],
          "heatmapgl": [
           {
            "colorbar": {
             "outlinewidth": 0,
             "ticks": ""
            },
            "colorscale": [
             [
              0,
              "#0d0887"
             ],
             [
              0.1111111111111111,
              "#46039f"
             ],
             [
              0.2222222222222222,
              "#7201a8"
             ],
             [
              0.3333333333333333,
              "#9c179e"
             ],
             [
              0.4444444444444444,
              "#bd3786"
             ],
             [
              0.5555555555555556,
              "#d8576b"
             ],
             [
              0.6666666666666666,
              "#ed7953"
             ],
             [
              0.7777777777777778,
              "#fb9f3a"
             ],
             [
              0.8888888888888888,
              "#fdca26"
             ],
             [
              1,
              "#f0f921"
             ]
            ],
            "type": "heatmapgl"
           }
          ],
          "histogram": [
           {
            "marker": {
             "pattern": {
              "fillmode": "overlay",
              "size": 10,
              "solidity": 0.2
             }
            },
            "type": "histogram"
           }
          ],
          "histogram2d": [
           {
            "colorbar": {
             "outlinewidth": 0,
             "ticks": ""
            },
            "colorscale": [
             [
              0,
              "#0d0887"
             ],
             [
              0.1111111111111111,
              "#46039f"
             ],
             [
              0.2222222222222222,
              "#7201a8"
             ],
             [
              0.3333333333333333,
              "#9c179e"
             ],
             [
              0.4444444444444444,
              "#bd3786"
             ],
             [
              0.5555555555555556,
              "#d8576b"
             ],
             [
              0.6666666666666666,
              "#ed7953"
             ],
             [
              0.7777777777777778,
              "#fb9f3a"
             ],
             [
              0.8888888888888888,
              "#fdca26"
             ],
             [
              1,
              "#f0f921"
             ]
            ],
            "type": "histogram2d"
           }
          ],
          "histogram2dcontour": [
           {
            "colorbar": {
             "outlinewidth": 0,
             "ticks": ""
            },
            "colorscale": [
             [
              0,
              "#0d0887"
             ],
             [
              0.1111111111111111,
              "#46039f"
             ],
             [
              0.2222222222222222,
              "#7201a8"
             ],
             [
              0.3333333333333333,
              "#9c179e"
             ],
             [
              0.4444444444444444,
              "#bd3786"
             ],
             [
              0.5555555555555556,
              "#d8576b"
             ],
             [
              0.6666666666666666,
              "#ed7953"
             ],
             [
              0.7777777777777778,
              "#fb9f3a"
             ],
             [
              0.8888888888888888,
              "#fdca26"
             ],
             [
              1,
              "#f0f921"
             ]
            ],
            "type": "histogram2dcontour"
           }
          ],
          "mesh3d": [
           {
            "colorbar": {
             "outlinewidth": 0,
             "ticks": ""
            },
            "type": "mesh3d"
           }
          ],
          "parcoords": [
           {
            "line": {
             "colorbar": {
              "outlinewidth": 0,
              "ticks": ""
             }
            },
            "type": "parcoords"
           }
          ],
          "pie": [
           {
            "automargin": true,
            "type": "pie"
           }
          ],
          "scatter": [
           {
            "fillpattern": {
             "fillmode": "overlay",
             "size": 10,
             "solidity": 0.2
            },
            "type": "scatter"
           }
          ],
          "scatter3d": [
           {
            "line": {
             "colorbar": {
              "outlinewidth": 0,
              "ticks": ""
             }
            },
            "marker": {
             "colorbar": {
              "outlinewidth": 0,
              "ticks": ""
             }
            },
            "type": "scatter3d"
           }
          ],
          "scattercarpet": [
           {
            "marker": {
             "colorbar": {
              "outlinewidth": 0,
              "ticks": ""
             }
            },
            "type": "scattercarpet"
           }
          ],
          "scattergeo": [
           {
            "marker": {
             "colorbar": {
              "outlinewidth": 0,
              "ticks": ""
             }
            },
            "type": "scattergeo"
           }
          ],
          "scattergl": [
           {
            "marker": {
             "colorbar": {
              "outlinewidth": 0,
              "ticks": ""
             }
            },
            "type": "scattergl"
           }
          ],
          "scattermapbox": [
           {
            "marker": {
             "colorbar": {
              "outlinewidth": 0,
              "ticks": ""
             }
            },
            "type": "scattermapbox"
           }
          ],
          "scatterpolar": [
           {
            "marker": {
             "colorbar": {
              "outlinewidth": 0,
              "ticks": ""
             }
            },
            "type": "scatterpolar"
           }
          ],
          "scatterpolargl": [
           {
            "marker": {
             "colorbar": {
              "outlinewidth": 0,
              "ticks": ""
             }
            },
            "type": "scatterpolargl"
           }
          ],
          "scatterternary": [
           {
            "marker": {
             "colorbar": {
              "outlinewidth": 0,
              "ticks": ""
             }
            },
            "type": "scatterternary"
           }
          ],
          "surface": [
           {
            "colorbar": {
             "outlinewidth": 0,
             "ticks": ""
            },
            "colorscale": [
             [
              0,
              "#0d0887"
             ],
             [
              0.1111111111111111,
              "#46039f"
             ],
             [
              0.2222222222222222,
              "#7201a8"
             ],
             [
              0.3333333333333333,
              "#9c179e"
             ],
             [
              0.4444444444444444,
              "#bd3786"
             ],
             [
              0.5555555555555556,
              "#d8576b"
             ],
             [
              0.6666666666666666,
              "#ed7953"
             ],
             [
              0.7777777777777778,
              "#fb9f3a"
             ],
             [
              0.8888888888888888,
              "#fdca26"
             ],
             [
              1,
              "#f0f921"
             ]
            ],
            "type": "surface"
           }
          ],
          "table": [
           {
            "cells": {
             "fill": {
              "color": "#EBF0F8"
             },
             "line": {
              "color": "white"
             }
            },
            "header": {
             "fill": {
              "color": "#C8D4E3"
             },
             "line": {
              "color": "white"
             }
            },
            "type": "table"
           }
          ]
         },
         "layout": {
          "annotationdefaults": {
           "arrowcolor": "#2a3f5f",
           "arrowhead": 0,
           "arrowwidth": 1
          },
          "autotypenumbers": "strict",
          "coloraxis": {
           "colorbar": {
            "outlinewidth": 0,
            "ticks": ""
           }
          },
          "colorscale": {
           "diverging": [
            [
             0,
             "#8e0152"
            ],
            [
             0.1,
             "#c51b7d"
            ],
            [
             0.2,
             "#de77ae"
            ],
            [
             0.3,
             "#f1b6da"
            ],
            [
             0.4,
             "#fde0ef"
            ],
            [
             0.5,
             "#f7f7f7"
            ],
            [
             0.6,
             "#e6f5d0"
            ],
            [
             0.7,
             "#b8e186"
            ],
            [
             0.8,
             "#7fbc41"
            ],
            [
             0.9,
             "#4d9221"
            ],
            [
             1,
             "#276419"
            ]
           ],
           "sequential": [
            [
             0,
             "#0d0887"
            ],
            [
             0.1111111111111111,
             "#46039f"
            ],
            [
             0.2222222222222222,
             "#7201a8"
            ],
            [
             0.3333333333333333,
             "#9c179e"
            ],
            [
             0.4444444444444444,
             "#bd3786"
            ],
            [
             0.5555555555555556,
             "#d8576b"
            ],
            [
             0.6666666666666666,
             "#ed7953"
            ],
            [
             0.7777777777777778,
             "#fb9f3a"
            ],
            [
             0.8888888888888888,
             "#fdca26"
            ],
            [
             1,
             "#f0f921"
            ]
           ],
           "sequentialminus": [
            [
             0,
             "#0d0887"
            ],
            [
             0.1111111111111111,
             "#46039f"
            ],
            [
             0.2222222222222222,
             "#7201a8"
            ],
            [
             0.3333333333333333,
             "#9c179e"
            ],
            [
             0.4444444444444444,
             "#bd3786"
            ],
            [
             0.5555555555555556,
             "#d8576b"
            ],
            [
             0.6666666666666666,
             "#ed7953"
            ],
            [
             0.7777777777777778,
             "#fb9f3a"
            ],
            [
             0.8888888888888888,
             "#fdca26"
            ],
            [
             1,
             "#f0f921"
            ]
           ]
          },
          "colorway": [
           "#636efa",
           "#EF553B",
           "#00cc96",
           "#ab63fa",
           "#FFA15A",
           "#19d3f3",
           "#FF6692",
           "#B6E880",
           "#FF97FF",
           "#FECB52"
          ],
          "font": {
           "color": "#2a3f5f"
          },
          "geo": {
           "bgcolor": "white",
           "lakecolor": "white",
           "landcolor": "#E5ECF6",
           "showlakes": true,
           "showland": true,
           "subunitcolor": "white"
          },
          "hoverlabel": {
           "align": "left"
          },
          "hovermode": "closest",
          "mapbox": {
           "style": "light"
          },
          "paper_bgcolor": "white",
          "plot_bgcolor": "#E5ECF6",
          "polar": {
           "angularaxis": {
            "gridcolor": "white",
            "linecolor": "white",
            "ticks": ""
           },
           "bgcolor": "#E5ECF6",
           "radialaxis": {
            "gridcolor": "white",
            "linecolor": "white",
            "ticks": ""
           }
          },
          "scene": {
           "xaxis": {
            "backgroundcolor": "#E5ECF6",
            "gridcolor": "white",
            "gridwidth": 2,
            "linecolor": "white",
            "showbackground": true,
            "ticks": "",
            "zerolinecolor": "white"
           },
           "yaxis": {
            "backgroundcolor": "#E5ECF6",
            "gridcolor": "white",
            "gridwidth": 2,
            "linecolor": "white",
            "showbackground": true,
            "ticks": "",
            "zerolinecolor": "white"
           },
           "zaxis": {
            "backgroundcolor": "#E5ECF6",
            "gridcolor": "white",
            "gridwidth": 2,
            "linecolor": "white",
            "showbackground": true,
            "ticks": "",
            "zerolinecolor": "white"
           }
          },
          "shapedefaults": {
           "line": {
            "color": "#2a3f5f"
           }
          },
          "ternary": {
           "aaxis": {
            "gridcolor": "white",
            "linecolor": "white",
            "ticks": ""
           },
           "baxis": {
            "gridcolor": "white",
            "linecolor": "white",
            "ticks": ""
           },
           "bgcolor": "#E5ECF6",
           "caxis": {
            "gridcolor": "white",
            "linecolor": "white",
            "ticks": ""
           }
          },
          "title": {
           "x": 0.05
          },
          "xaxis": {
           "automargin": true,
           "gridcolor": "white",
           "linecolor": "white",
           "ticks": "",
           "title": {
            "standoff": 15
           },
           "zerolinecolor": "white",
           "zerolinewidth": 2
          },
          "yaxis": {
           "automargin": true,
           "gridcolor": "white",
           "linecolor": "white",
           "ticks": "",
           "title": {
            "standoff": 15
           },
           "zerolinecolor": "white",
           "zerolinewidth": 2
          }
         }
        },
        "title": {
         "text": "Optimization History Plot"
        },
        "xaxis": {
         "title": {
          "text": "Trial"
         }
        },
        "yaxis": {
         "title": {
          "text": "Objective Value"
         }
        }
       }
      }
     },
     "metadata": {},
     "output_type": "display_data"
    }
   ],
   "source": [
    "optuna.visualization.plot_optimization_history(study)"
   ]
  },
  {
   "cell_type": "code",
   "execution_count": 13,
   "metadata": {},
   "outputs": [
    {
     "data": {
      "application/vnd.plotly.v1+json": {
       "config": {
        "plotlyServerURL": "https://plot.ly"
       },
       "data": [
        {
         "dimensions": [
          {
           "label": "Objective Value",
           "range": [
            -5.560513511969064,
            -1.863961406794094
           ],
           "values": [
            -4.492232889822825,
            -5.135907141854878,
            -5.547653344597071,
            -3.013679850017632,
            -3.828406881097854,
            -3.8829166856448536,
            -4.060210271570685,
            -3.258602070694553,
            -5.088763156085738,
            -3.954290323774856,
            -5.331837102830099,
            -4.043690984904937,
            -5.022010413835533,
            -5.333432121477555,
            -3.85651660150936,
            -3.9006960791282026,
            -5.104698872846437,
            -3.5908076549436294,
            -4.92555999351435,
            -2.677635432495068,
            -2.5272575861297812,
            -4.694726707779843,
            -4.844778150501353,
            -3.988427583792504,
            -2.370159618091831,
            -4.050999610922298,
            -4.9947927167071,
            -3.016779347943916,
            -5.177020754715311,
            -4.217895899189275,
            -2.530846580328416,
            -5.210105676771522,
            -3.6460824112428263,
            -3.9047763011958536,
            -5.560513511969064,
            -3.798468156846223,
            -4.087542551458808,
            -3.783385455177361,
            -3.8047660944542026,
            -4.955671023312275,
            -4.234788658795308,
            -2.9681351920281376,
            -3.1577213538242397,
            -3.2915272048236126,
            -3.530086532786794,
            -5.206813020918366,
            -4.239164219589467,
            -5.293079275701154,
            -3.8438907770984194,
            -5.008992524164933,
            -5.253159684468904,
            -4.773570347498039,
            -4.930153477414815,
            -3.588573826858159,
            -5.145587409951811,
            -3.850274215772297,
            -3.9017311718752623,
            -4.076106497174095,
            -4.939741364995378,
            -3.3076402344082774,
            -3.8483133518271244,
            -5.446452853608433,
            -3.860516094642802,
            -4.222327504961659,
            -2.9873550682429184,
            -4.035648062914617,
            -4.8378644313975565,
            -5.076562396343503,
            -4.095593721902541,
            -5.044000484021469,
            -2.6652100674244474,
            -4.205403918009409,
            -1.863961406794094,
            -4.0532715257969,
            -3.058670925005253,
            -4.655216671672115,
            -3.7906250963251487,
            -2.735846167833211,
            -4.919924495055311,
            -3.7544111701924647,
            -3.7187762378447196,
            -4.520379504593625,
            -5.034774884565431,
            -1.9410817334892883,
            -2.8375918098614643,
            -3.8794991770528684,
            -3.0790675975934256,
            -5.204415077506878,
            -4.66385533922328,
            -4.2534098732991925,
            -4.16997497769295,
            -5.2683152449829835,
            -1.9202193893592425,
            -3.9038831296737677,
            -3.7894542951133636,
            -5.3220008159955166,
            -3.0355290622352085,
            -3.894680434113267,
            -5.301746685021605,
            -4.979454027441929
           ]
          },
          {
           "label": "max_depth",
           "range": [
            10,
            50
           ],
           "values": [
            48,
            16,
            39,
            18,
            31,
            15,
            42,
            11,
            48,
            14,
            30,
            37,
            17,
            46,
            18,
            21,
            32,
            50,
            43,
            13,
            35,
            23,
            29,
            33,
            27,
            36,
            20,
            13,
            43,
            17,
            46,
            27,
            30,
            23,
            38,
            20,
            11,
            21,
            30,
            41,
            35,
            44,
            34,
            19,
            25,
            14,
            37,
            19,
            35,
            46,
            13,
            10,
            16,
            19,
            40,
            33,
            20,
            35,
            30,
            10,
            49,
            48,
            44,
            22,
            38,
            50,
            40,
            22,
            47,
            36,
            23,
            11,
            34,
            24,
            18,
            31,
            50,
            21,
            49,
            17,
            39,
            40,
            20,
            14,
            38,
            29,
            35,
            35,
            16,
            34,
            36,
            25,
            12,
            38,
            10,
            38,
            42,
            43,
            41,
            27
           ]
          },
          {
           "label": "min_samples_leaf",
           "range": [
            1,
            32
           ],
           "values": [
            20,
            28,
            32,
            6,
            10,
            12,
            17,
            6,
            26,
            15,
            30,
            17,
            25,
            30,
            11,
            12,
            26,
            7,
            24,
            4,
            3,
            21,
            23,
            16,
            4,
            17,
            25,
            6,
            28,
            18,
            4,
            28,
            8,
            11,
            32,
            10,
            17,
            8,
            8,
            24,
            18,
            6,
            1,
            6,
            5,
            29,
            18,
            29,
            12,
            25,
            29,
            22,
            23,
            8,
            28,
            12,
            13,
            17,
            24,
            6,
            12,
            31,
            13,
            18,
            4,
            17,
            23,
            26,
            17,
            26,
            4,
            18,
            2,
            17,
            3,
            21,
            11,
            3,
            23,
            9,
            9,
            20,
            25,
            2,
            4,
            14,
            2,
            28,
            21,
            19,
            18,
            29,
            1,
            11,
            10,
            29,
            6,
            14,
            30,
            25
           ]
          },
          {
           "label": "min_samples_split",
           "range": [
            2,
            32
           ],
           "values": [
            24,
            3,
            2,
            7,
            15,
            11,
            8,
            20,
            31,
            23,
            3,
            11,
            32,
            20,
            3,
            27,
            6,
            25,
            23,
            13,
            12,
            24,
            5,
            25,
            2,
            11,
            14,
            10,
            21,
            29,
            11,
            27,
            14,
            31,
            13,
            17,
            20,
            30,
            32,
            9,
            21,
            11,
            23,
            22,
            31,
            30,
            27,
            4,
            12,
            29,
            7,
            5,
            19,
            24,
            22,
            4,
            32,
            26,
            8,
            22,
            30,
            15,
            11,
            7,
            19,
            6,
            23,
            27,
            17,
            23,
            13,
            16,
            2,
            5,
            21,
            18,
            18,
            15,
            27,
            6,
            22,
            19,
            13,
            3,
            16,
            7,
            21,
            17,
            4,
            31,
            16,
            31,
            5,
            4,
            27,
            21,
            10,
            32,
            12,
            25
           ]
          },
          {
           "label": "n_estimators",
           "range": [
            104,
            968
           ],
           "values": [
            437,
            240,
            641,
            850,
            374,
            651,
            510,
            633,
            158,
            374,
            209,
            333,
            592,
            946,
            179,
            450,
            353,
            167,
            104,
            794,
            877,
            380,
            899,
            785,
            570,
            128,
            917,
            306,
            937,
            824,
            827,
            305,
            106,
            207,
            567,
            967,
            356,
            146,
            230,
            705,
            431,
            181,
            136,
            561,
            722,
            407,
            332,
            577,
            911,
            754,
            678,
            646,
            104,
            687,
            393,
            692,
            338,
            903,
            619,
            352,
            947,
            113,
            968,
            866,
            943,
            654,
            890,
            423,
            881,
            819,
            901,
            621,
            358,
            841,
            793,
            146,
            754,
            816,
            122,
            468,
            594,
            960,
            478,
            112,
            870,
            542,
            459,
            437,
            693,
            123,
            449,
            948,
            276,
            185,
            861,
            206,
            762,
            776,
            435,
            873
           ]
          }
         ],
         "labelangle": 30,
         "labelside": "bottom",
         "line": {
          "color": [
           -4.492232889822825,
           -5.135907141854878,
           -5.547653344597071,
           -3.013679850017632,
           -3.828406881097854,
           -3.8829166856448536,
           -4.060210271570685,
           -3.258602070694553,
           -5.088763156085738,
           -3.954290323774856,
           -5.331837102830099,
           -4.043690984904937,
           -5.022010413835533,
           -5.333432121477555,
           -3.85651660150936,
           -3.9006960791282026,
           -5.104698872846437,
           -3.5908076549436294,
           -4.92555999351435,
           -2.677635432495068,
           -2.5272575861297812,
           -4.694726707779843,
           -4.844778150501353,
           -3.988427583792504,
           -2.370159618091831,
           -4.050999610922298,
           -4.9947927167071,
           -3.016779347943916,
           -5.177020754715311,
           -4.217895899189275,
           -2.530846580328416,
           -5.210105676771522,
           -3.6460824112428263,
           -3.9047763011958536,
           -5.560513511969064,
           -3.798468156846223,
           -4.087542551458808,
           -3.783385455177361,
           -3.8047660944542026,
           -4.955671023312275,
           -4.234788658795308,
           -2.9681351920281376,
           -3.1577213538242397,
           -3.2915272048236126,
           -3.530086532786794,
           -5.206813020918366,
           -4.239164219589467,
           -5.293079275701154,
           -3.8438907770984194,
           -5.008992524164933,
           -5.253159684468904,
           -4.773570347498039,
           -4.930153477414815,
           -3.588573826858159,
           -5.145587409951811,
           -3.850274215772297,
           -3.9017311718752623,
           -4.076106497174095,
           -4.939741364995378,
           -3.3076402344082774,
           -3.8483133518271244,
           -5.446452853608433,
           -3.860516094642802,
           -4.222327504961659,
           -2.9873550682429184,
           -4.035648062914617,
           -4.8378644313975565,
           -5.076562396343503,
           -4.095593721902541,
           -5.044000484021469,
           -2.6652100674244474,
           -4.205403918009409,
           -1.863961406794094,
           -4.0532715257969,
           -3.058670925005253,
           -4.655216671672115,
           -3.7906250963251487,
           -2.735846167833211,
           -4.919924495055311,
           -3.7544111701924647,
           -3.7187762378447196,
           -4.520379504593625,
           -5.034774884565431,
           -1.9410817334892883,
           -2.8375918098614643,
           -3.8794991770528684,
           -3.0790675975934256,
           -5.204415077506878,
           -4.66385533922328,
           -4.2534098732991925,
           -4.16997497769295,
           -5.2683152449829835,
           -1.9202193893592425,
           -3.9038831296737677,
           -3.7894542951133636,
           -5.3220008159955166,
           -3.0355290622352085,
           -3.894680434113267,
           -5.301746685021605,
           -4.979454027441929
          ],
          "colorbar": {
           "title": {
            "text": "Objective Value"
           }
          },
          "colorscale": [
           [
            0,
            "rgb(247,251,255)"
           ],
           [
            0.125,
            "rgb(222,235,247)"
           ],
           [
            0.25,
            "rgb(198,219,239)"
           ],
           [
            0.375,
            "rgb(158,202,225)"
           ],
           [
            0.5,
            "rgb(107,174,214)"
           ],
           [
            0.625,
            "rgb(66,146,198)"
           ],
           [
            0.75,
            "rgb(33,113,181)"
           ],
           [
            0.875,
            "rgb(8,81,156)"
           ],
           [
            1,
            "rgb(8,48,107)"
           ]
          ],
          "reversescale": false,
          "showscale": true
         },
         "type": "parcoords"
        }
       ],
       "layout": {
        "template": {
         "data": {
          "bar": [
           {
            "error_x": {
             "color": "#2a3f5f"
            },
            "error_y": {
             "color": "#2a3f5f"
            },
            "marker": {
             "line": {
              "color": "#E5ECF6",
              "width": 0.5
             },
             "pattern": {
              "fillmode": "overlay",
              "size": 10,
              "solidity": 0.2
             }
            },
            "type": "bar"
           }
          ],
          "barpolar": [
           {
            "marker": {
             "line": {
              "color": "#E5ECF6",
              "width": 0.5
             },
             "pattern": {
              "fillmode": "overlay",
              "size": 10,
              "solidity": 0.2
             }
            },
            "type": "barpolar"
           }
          ],
          "carpet": [
           {
            "aaxis": {
             "endlinecolor": "#2a3f5f",
             "gridcolor": "white",
             "linecolor": "white",
             "minorgridcolor": "white",
             "startlinecolor": "#2a3f5f"
            },
            "baxis": {
             "endlinecolor": "#2a3f5f",
             "gridcolor": "white",
             "linecolor": "white",
             "minorgridcolor": "white",
             "startlinecolor": "#2a3f5f"
            },
            "type": "carpet"
           }
          ],
          "choropleth": [
           {
            "colorbar": {
             "outlinewidth": 0,
             "ticks": ""
            },
            "type": "choropleth"
           }
          ],
          "contour": [
           {
            "colorbar": {
             "outlinewidth": 0,
             "ticks": ""
            },
            "colorscale": [
             [
              0,
              "#0d0887"
             ],
             [
              0.1111111111111111,
              "#46039f"
             ],
             [
              0.2222222222222222,
              "#7201a8"
             ],
             [
              0.3333333333333333,
              "#9c179e"
             ],
             [
              0.4444444444444444,
              "#bd3786"
             ],
             [
              0.5555555555555556,
              "#d8576b"
             ],
             [
              0.6666666666666666,
              "#ed7953"
             ],
             [
              0.7777777777777778,
              "#fb9f3a"
             ],
             [
              0.8888888888888888,
              "#fdca26"
             ],
             [
              1,
              "#f0f921"
             ]
            ],
            "type": "contour"
           }
          ],
          "contourcarpet": [
           {
            "colorbar": {
             "outlinewidth": 0,
             "ticks": ""
            },
            "type": "contourcarpet"
           }
          ],
          "heatmap": [
           {
            "colorbar": {
             "outlinewidth": 0,
             "ticks": ""
            },
            "colorscale": [
             [
              0,
              "#0d0887"
             ],
             [
              0.1111111111111111,
              "#46039f"
             ],
             [
              0.2222222222222222,
              "#7201a8"
             ],
             [
              0.3333333333333333,
              "#9c179e"
             ],
             [
              0.4444444444444444,
              "#bd3786"
             ],
             [
              0.5555555555555556,
              "#d8576b"
             ],
             [
              0.6666666666666666,
              "#ed7953"
             ],
             [
              0.7777777777777778,
              "#fb9f3a"
             ],
             [
              0.8888888888888888,
              "#fdca26"
             ],
             [
              1,
              "#f0f921"
             ]
            ],
            "type": "heatmap"
           }
          ],
          "heatmapgl": [
           {
            "colorbar": {
             "outlinewidth": 0,
             "ticks": ""
            },
            "colorscale": [
             [
              0,
              "#0d0887"
             ],
             [
              0.1111111111111111,
              "#46039f"
             ],
             [
              0.2222222222222222,
              "#7201a8"
             ],
             [
              0.3333333333333333,
              "#9c179e"
             ],
             [
              0.4444444444444444,
              "#bd3786"
             ],
             [
              0.5555555555555556,
              "#d8576b"
             ],
             [
              0.6666666666666666,
              "#ed7953"
             ],
             [
              0.7777777777777778,
              "#fb9f3a"
             ],
             [
              0.8888888888888888,
              "#fdca26"
             ],
             [
              1,
              "#f0f921"
             ]
            ],
            "type": "heatmapgl"
           }
          ],
          "histogram": [
           {
            "marker": {
             "pattern": {
              "fillmode": "overlay",
              "size": 10,
              "solidity": 0.2
             }
            },
            "type": "histogram"
           }
          ],
          "histogram2d": [
           {
            "colorbar": {
             "outlinewidth": 0,
             "ticks": ""
            },
            "colorscale": [
             [
              0,
              "#0d0887"
             ],
             [
              0.1111111111111111,
              "#46039f"
             ],
             [
              0.2222222222222222,
              "#7201a8"
             ],
             [
              0.3333333333333333,
              "#9c179e"
             ],
             [
              0.4444444444444444,
              "#bd3786"
             ],
             [
              0.5555555555555556,
              "#d8576b"
             ],
             [
              0.6666666666666666,
              "#ed7953"
             ],
             [
              0.7777777777777778,
              "#fb9f3a"
             ],
             [
              0.8888888888888888,
              "#fdca26"
             ],
             [
              1,
              "#f0f921"
             ]
            ],
            "type": "histogram2d"
           }
          ],
          "histogram2dcontour": [
           {
            "colorbar": {
             "outlinewidth": 0,
             "ticks": ""
            },
            "colorscale": [
             [
              0,
              "#0d0887"
             ],
             [
              0.1111111111111111,
              "#46039f"
             ],
             [
              0.2222222222222222,
              "#7201a8"
             ],
             [
              0.3333333333333333,
              "#9c179e"
             ],
             [
              0.4444444444444444,
              "#bd3786"
             ],
             [
              0.5555555555555556,
              "#d8576b"
             ],
             [
              0.6666666666666666,
              "#ed7953"
             ],
             [
              0.7777777777777778,
              "#fb9f3a"
             ],
             [
              0.8888888888888888,
              "#fdca26"
             ],
             [
              1,
              "#f0f921"
             ]
            ],
            "type": "histogram2dcontour"
           }
          ],
          "mesh3d": [
           {
            "colorbar": {
             "outlinewidth": 0,
             "ticks": ""
            },
            "type": "mesh3d"
           }
          ],
          "parcoords": [
           {
            "line": {
             "colorbar": {
              "outlinewidth": 0,
              "ticks": ""
             }
            },
            "type": "parcoords"
           }
          ],
          "pie": [
           {
            "automargin": true,
            "type": "pie"
           }
          ],
          "scatter": [
           {
            "fillpattern": {
             "fillmode": "overlay",
             "size": 10,
             "solidity": 0.2
            },
            "type": "scatter"
           }
          ],
          "scatter3d": [
           {
            "line": {
             "colorbar": {
              "outlinewidth": 0,
              "ticks": ""
             }
            },
            "marker": {
             "colorbar": {
              "outlinewidth": 0,
              "ticks": ""
             }
            },
            "type": "scatter3d"
           }
          ],
          "scattercarpet": [
           {
            "marker": {
             "colorbar": {
              "outlinewidth": 0,
              "ticks": ""
             }
            },
            "type": "scattercarpet"
           }
          ],
          "scattergeo": [
           {
            "marker": {
             "colorbar": {
              "outlinewidth": 0,
              "ticks": ""
             }
            },
            "type": "scattergeo"
           }
          ],
          "scattergl": [
           {
            "marker": {
             "colorbar": {
              "outlinewidth": 0,
              "ticks": ""
             }
            },
            "type": "scattergl"
           }
          ],
          "scattermapbox": [
           {
            "marker": {
             "colorbar": {
              "outlinewidth": 0,
              "ticks": ""
             }
            },
            "type": "scattermapbox"
           }
          ],
          "scatterpolar": [
           {
            "marker": {
             "colorbar": {
              "outlinewidth": 0,
              "ticks": ""
             }
            },
            "type": "scatterpolar"
           }
          ],
          "scatterpolargl": [
           {
            "marker": {
             "colorbar": {
              "outlinewidth": 0,
              "ticks": ""
             }
            },
            "type": "scatterpolargl"
           }
          ],
          "scatterternary": [
           {
            "marker": {
             "colorbar": {
              "outlinewidth": 0,
              "ticks": ""
             }
            },
            "type": "scatterternary"
           }
          ],
          "surface": [
           {
            "colorbar": {
             "outlinewidth": 0,
             "ticks": ""
            },
            "colorscale": [
             [
              0,
              "#0d0887"
             ],
             [
              0.1111111111111111,
              "#46039f"
             ],
             [
              0.2222222222222222,
              "#7201a8"
             ],
             [
              0.3333333333333333,
              "#9c179e"
             ],
             [
              0.4444444444444444,
              "#bd3786"
             ],
             [
              0.5555555555555556,
              "#d8576b"
             ],
             [
              0.6666666666666666,
              "#ed7953"
             ],
             [
              0.7777777777777778,
              "#fb9f3a"
             ],
             [
              0.8888888888888888,
              "#fdca26"
             ],
             [
              1,
              "#f0f921"
             ]
            ],
            "type": "surface"
           }
          ],
          "table": [
           {
            "cells": {
             "fill": {
              "color": "#EBF0F8"
             },
             "line": {
              "color": "white"
             }
            },
            "header": {
             "fill": {
              "color": "#C8D4E3"
             },
             "line": {
              "color": "white"
             }
            },
            "type": "table"
           }
          ]
         },
         "layout": {
          "annotationdefaults": {
           "arrowcolor": "#2a3f5f",
           "arrowhead": 0,
           "arrowwidth": 1
          },
          "autotypenumbers": "strict",
          "coloraxis": {
           "colorbar": {
            "outlinewidth": 0,
            "ticks": ""
           }
          },
          "colorscale": {
           "diverging": [
            [
             0,
             "#8e0152"
            ],
            [
             0.1,
             "#c51b7d"
            ],
            [
             0.2,
             "#de77ae"
            ],
            [
             0.3,
             "#f1b6da"
            ],
            [
             0.4,
             "#fde0ef"
            ],
            [
             0.5,
             "#f7f7f7"
            ],
            [
             0.6,
             "#e6f5d0"
            ],
            [
             0.7,
             "#b8e186"
            ],
            [
             0.8,
             "#7fbc41"
            ],
            [
             0.9,
             "#4d9221"
            ],
            [
             1,
             "#276419"
            ]
           ],
           "sequential": [
            [
             0,
             "#0d0887"
            ],
            [
             0.1111111111111111,
             "#46039f"
            ],
            [
             0.2222222222222222,
             "#7201a8"
            ],
            [
             0.3333333333333333,
             "#9c179e"
            ],
            [
             0.4444444444444444,
             "#bd3786"
            ],
            [
             0.5555555555555556,
             "#d8576b"
            ],
            [
             0.6666666666666666,
             "#ed7953"
            ],
            [
             0.7777777777777778,
             "#fb9f3a"
            ],
            [
             0.8888888888888888,
             "#fdca26"
            ],
            [
             1,
             "#f0f921"
            ]
           ],
           "sequentialminus": [
            [
             0,
             "#0d0887"
            ],
            [
             0.1111111111111111,
             "#46039f"
            ],
            [
             0.2222222222222222,
             "#7201a8"
            ],
            [
             0.3333333333333333,
             "#9c179e"
            ],
            [
             0.4444444444444444,
             "#bd3786"
            ],
            [
             0.5555555555555556,
             "#d8576b"
            ],
            [
             0.6666666666666666,
             "#ed7953"
            ],
            [
             0.7777777777777778,
             "#fb9f3a"
            ],
            [
             0.8888888888888888,
             "#fdca26"
            ],
            [
             1,
             "#f0f921"
            ]
           ]
          },
          "colorway": [
           "#636efa",
           "#EF553B",
           "#00cc96",
           "#ab63fa",
           "#FFA15A",
           "#19d3f3",
           "#FF6692",
           "#B6E880",
           "#FF97FF",
           "#FECB52"
          ],
          "font": {
           "color": "#2a3f5f"
          },
          "geo": {
           "bgcolor": "white",
           "lakecolor": "white",
           "landcolor": "#E5ECF6",
           "showlakes": true,
           "showland": true,
           "subunitcolor": "white"
          },
          "hoverlabel": {
           "align": "left"
          },
          "hovermode": "closest",
          "mapbox": {
           "style": "light"
          },
          "paper_bgcolor": "white",
          "plot_bgcolor": "#E5ECF6",
          "polar": {
           "angularaxis": {
            "gridcolor": "white",
            "linecolor": "white",
            "ticks": ""
           },
           "bgcolor": "#E5ECF6",
           "radialaxis": {
            "gridcolor": "white",
            "linecolor": "white",
            "ticks": ""
           }
          },
          "scene": {
           "xaxis": {
            "backgroundcolor": "#E5ECF6",
            "gridcolor": "white",
            "gridwidth": 2,
            "linecolor": "white",
            "showbackground": true,
            "ticks": "",
            "zerolinecolor": "white"
           },
           "yaxis": {
            "backgroundcolor": "#E5ECF6",
            "gridcolor": "white",
            "gridwidth": 2,
            "linecolor": "white",
            "showbackground": true,
            "ticks": "",
            "zerolinecolor": "white"
           },
           "zaxis": {
            "backgroundcolor": "#E5ECF6",
            "gridcolor": "white",
            "gridwidth": 2,
            "linecolor": "white",
            "showbackground": true,
            "ticks": "",
            "zerolinecolor": "white"
           }
          },
          "shapedefaults": {
           "line": {
            "color": "#2a3f5f"
           }
          },
          "ternary": {
           "aaxis": {
            "gridcolor": "white",
            "linecolor": "white",
            "ticks": ""
           },
           "baxis": {
            "gridcolor": "white",
            "linecolor": "white",
            "ticks": ""
           },
           "bgcolor": "#E5ECF6",
           "caxis": {
            "gridcolor": "white",
            "linecolor": "white",
            "ticks": ""
           }
          },
          "title": {
           "x": 0.05
          },
          "xaxis": {
           "automargin": true,
           "gridcolor": "white",
           "linecolor": "white",
           "ticks": "",
           "title": {
            "standoff": 15
           },
           "zerolinecolor": "white",
           "zerolinewidth": 2
          },
          "yaxis": {
           "automargin": true,
           "gridcolor": "white",
           "linecolor": "white",
           "ticks": "",
           "title": {
            "standoff": 15
           },
           "zerolinecolor": "white",
           "zerolinewidth": 2
          }
         }
        },
        "title": {
         "text": "Parallel Coordinate Plot"
        }
       }
      }
     },
     "metadata": {},
     "output_type": "display_data"
    }
   ],
   "source": [
    "optuna.visualization.plot_parallel_coordinate(study)"
   ]
  },
  {
   "cell_type": "code",
   "execution_count": 14,
   "metadata": {},
   "outputs": [
    {
     "data": {
      "application/vnd.plotly.v1+json": {
       "config": {
        "plotlyServerURL": "https://plot.ly"
       },
       "data": [
        {
         "mode": "markers",
         "name": "Objective Value",
         "type": "scatter",
         "x": [
          0,
          1,
          2,
          3,
          4,
          5,
          6,
          7,
          8,
          9,
          10,
          11,
          12,
          13,
          14,
          15,
          16,
          17,
          18,
          19,
          20,
          21,
          22,
          23,
          24,
          25,
          26,
          27,
          28,
          29,
          30,
          31,
          32,
          33,
          34,
          35,
          36,
          37,
          38,
          39,
          40,
          41,
          42,
          43,
          44,
          45,
          46,
          47,
          48,
          49,
          50,
          51,
          52,
          53,
          54,
          55,
          56,
          57,
          58,
          59,
          60,
          61,
          62,
          63,
          64,
          65,
          66,
          67,
          68,
          69,
          70,
          71,
          72,
          73,
          74,
          75,
          76,
          77,
          78,
          79,
          80,
          81,
          82,
          83,
          84,
          85,
          86,
          87,
          88,
          89,
          90,
          91,
          92,
          93,
          94,
          95,
          96,
          97,
          98,
          99
         ],
         "y": [
          -4.492232889822825,
          -5.135907141854878,
          -5.547653344597071,
          -3.013679850017632,
          -3.828406881097854,
          -3.8829166856448536,
          -4.060210271570685,
          -3.258602070694553,
          -5.088763156085738,
          -3.954290323774856,
          -5.331837102830099,
          -4.043690984904937,
          -5.022010413835533,
          -5.333432121477555,
          -3.85651660150936,
          -3.9006960791282026,
          -5.104698872846437,
          -3.5908076549436294,
          -4.92555999351435,
          -2.677635432495068,
          -2.5272575861297812,
          -4.694726707779843,
          -4.844778150501353,
          -3.988427583792504,
          -2.370159618091831,
          -4.050999610922298,
          -4.9947927167071,
          -3.016779347943916,
          -5.177020754715311,
          -4.217895899189275,
          -2.530846580328416,
          -5.210105676771522,
          -3.6460824112428263,
          -3.9047763011958536,
          -5.560513511969064,
          -3.798468156846223,
          -4.087542551458808,
          -3.783385455177361,
          -3.8047660944542026,
          -4.955671023312275,
          -4.234788658795308,
          -2.9681351920281376,
          -3.1577213538242397,
          -3.2915272048236126,
          -3.530086532786794,
          -5.206813020918366,
          -4.239164219589467,
          -5.293079275701154,
          -3.8438907770984194,
          -5.008992524164933,
          -5.253159684468904,
          -4.773570347498039,
          -4.930153477414815,
          -3.588573826858159,
          -5.145587409951811,
          -3.850274215772297,
          -3.9017311718752623,
          -4.076106497174095,
          -4.939741364995378,
          -3.3076402344082774,
          -3.8483133518271244,
          -5.446452853608433,
          -3.860516094642802,
          -4.222327504961659,
          -2.9873550682429184,
          -4.035648062914617,
          -4.8378644313975565,
          -5.076562396343503,
          -4.095593721902541,
          -5.044000484021469,
          -2.6652100674244474,
          -4.205403918009409,
          -1.863961406794094,
          -4.0532715257969,
          -3.058670925005253,
          -4.655216671672115,
          -3.7906250963251487,
          -2.735846167833211,
          -4.919924495055311,
          -3.7544111701924647,
          -3.7187762378447196,
          -4.520379504593625,
          -5.034774884565431,
          -1.9410817334892883,
          -2.8375918098614643,
          -3.8794991770528684,
          -3.0790675975934256,
          -5.204415077506878,
          -4.66385533922328,
          -4.2534098732991925,
          -4.16997497769295,
          -5.2683152449829835,
          -1.9202193893592425,
          -3.9038831296737677,
          -3.7894542951133636,
          -5.3220008159955166,
          -3.0355290622352085,
          -3.894680434113267,
          -5.301746685021605,
          -4.979454027441929
         ]
        },
        {
         "mode": "lines",
         "name": "Best Value",
         "type": "scatter",
         "x": [
          0,
          1,
          2,
          3,
          4,
          5,
          6,
          7,
          8,
          9,
          10,
          11,
          12,
          13,
          14,
          15,
          16,
          17,
          18,
          19,
          20,
          21,
          22,
          23,
          24,
          25,
          26,
          27,
          28,
          29,
          30,
          31,
          32,
          33,
          34,
          35,
          36,
          37,
          38,
          39,
          40,
          41,
          42,
          43,
          44,
          45,
          46,
          47,
          48,
          49,
          50,
          51,
          52,
          53,
          54,
          55,
          56,
          57,
          58,
          59,
          60,
          61,
          62,
          63,
          64,
          65,
          66,
          67,
          68,
          69,
          70,
          71,
          72,
          73,
          74,
          75,
          76,
          77,
          78,
          79,
          80,
          81,
          82,
          83,
          84,
          85,
          86,
          87,
          88,
          89,
          90,
          91,
          92,
          93,
          94,
          95,
          96,
          97,
          98,
          99
         ],
         "y": [
          -4.492232889822825,
          -4.492232889822825,
          -4.492232889822825,
          -3.013679850017632,
          -3.013679850017632,
          -3.013679850017632,
          -3.013679850017632,
          -3.013679850017632,
          -3.013679850017632,
          -3.013679850017632,
          -3.013679850017632,
          -3.013679850017632,
          -3.013679850017632,
          -3.013679850017632,
          -3.013679850017632,
          -3.013679850017632,
          -3.013679850017632,
          -3.013679850017632,
          -3.013679850017632,
          -2.677635432495068,
          -2.5272575861297812,
          -2.5272575861297812,
          -2.5272575861297812,
          -2.5272575861297812,
          -2.370159618091831,
          -2.370159618091831,
          -2.370159618091831,
          -2.370159618091831,
          -2.370159618091831,
          -2.370159618091831,
          -2.370159618091831,
          -2.370159618091831,
          -2.370159618091831,
          -2.370159618091831,
          -2.370159618091831,
          -2.370159618091831,
          -2.370159618091831,
          -2.370159618091831,
          -2.370159618091831,
          -2.370159618091831,
          -2.370159618091831,
          -2.370159618091831,
          -2.370159618091831,
          -2.370159618091831,
          -2.370159618091831,
          -2.370159618091831,
          -2.370159618091831,
          -2.370159618091831,
          -2.370159618091831,
          -2.370159618091831,
          -2.370159618091831,
          -2.370159618091831,
          -2.370159618091831,
          -2.370159618091831,
          -2.370159618091831,
          -2.370159618091831,
          -2.370159618091831,
          -2.370159618091831,
          -2.370159618091831,
          -2.370159618091831,
          -2.370159618091831,
          -2.370159618091831,
          -2.370159618091831,
          -2.370159618091831,
          -2.370159618091831,
          -2.370159618091831,
          -2.370159618091831,
          -2.370159618091831,
          -2.370159618091831,
          -2.370159618091831,
          -2.370159618091831,
          -2.370159618091831,
          -1.863961406794094,
          -1.863961406794094,
          -1.863961406794094,
          -1.863961406794094,
          -1.863961406794094,
          -1.863961406794094,
          -1.863961406794094,
          -1.863961406794094,
          -1.863961406794094,
          -1.863961406794094,
          -1.863961406794094,
          -1.863961406794094,
          -1.863961406794094,
          -1.863961406794094,
          -1.863961406794094,
          -1.863961406794094,
          -1.863961406794094,
          -1.863961406794094,
          -1.863961406794094,
          -1.863961406794094,
          -1.863961406794094,
          -1.863961406794094,
          -1.863961406794094,
          -1.863961406794094,
          -1.863961406794094,
          -1.863961406794094,
          -1.863961406794094,
          -1.863961406794094
         ]
        },
        {
         "marker": {
          "color": "#cccccc"
         },
         "mode": "markers",
         "name": "Infeasible Trial",
         "showlegend": false,
         "type": "scatter",
         "x": [],
         "y": []
        }
       ],
       "layout": {
        "template": {
         "data": {
          "bar": [
           {
            "error_x": {
             "color": "#2a3f5f"
            },
            "error_y": {
             "color": "#2a3f5f"
            },
            "marker": {
             "line": {
              "color": "#E5ECF6",
              "width": 0.5
             },
             "pattern": {
              "fillmode": "overlay",
              "size": 10,
              "solidity": 0.2
             }
            },
            "type": "bar"
           }
          ],
          "barpolar": [
           {
            "marker": {
             "line": {
              "color": "#E5ECF6",
              "width": 0.5
             },
             "pattern": {
              "fillmode": "overlay",
              "size": 10,
              "solidity": 0.2
             }
            },
            "type": "barpolar"
           }
          ],
          "carpet": [
           {
            "aaxis": {
             "endlinecolor": "#2a3f5f",
             "gridcolor": "white",
             "linecolor": "white",
             "minorgridcolor": "white",
             "startlinecolor": "#2a3f5f"
            },
            "baxis": {
             "endlinecolor": "#2a3f5f",
             "gridcolor": "white",
             "linecolor": "white",
             "minorgridcolor": "white",
             "startlinecolor": "#2a3f5f"
            },
            "type": "carpet"
           }
          ],
          "choropleth": [
           {
            "colorbar": {
             "outlinewidth": 0,
             "ticks": ""
            },
            "type": "choropleth"
           }
          ],
          "contour": [
           {
            "colorbar": {
             "outlinewidth": 0,
             "ticks": ""
            },
            "colorscale": [
             [
              0,
              "#0d0887"
             ],
             [
              0.1111111111111111,
              "#46039f"
             ],
             [
              0.2222222222222222,
              "#7201a8"
             ],
             [
              0.3333333333333333,
              "#9c179e"
             ],
             [
              0.4444444444444444,
              "#bd3786"
             ],
             [
              0.5555555555555556,
              "#d8576b"
             ],
             [
              0.6666666666666666,
              "#ed7953"
             ],
             [
              0.7777777777777778,
              "#fb9f3a"
             ],
             [
              0.8888888888888888,
              "#fdca26"
             ],
             [
              1,
              "#f0f921"
             ]
            ],
            "type": "contour"
           }
          ],
          "contourcarpet": [
           {
            "colorbar": {
             "outlinewidth": 0,
             "ticks": ""
            },
            "type": "contourcarpet"
           }
          ],
          "heatmap": [
           {
            "colorbar": {
             "outlinewidth": 0,
             "ticks": ""
            },
            "colorscale": [
             [
              0,
              "#0d0887"
             ],
             [
              0.1111111111111111,
              "#46039f"
             ],
             [
              0.2222222222222222,
              "#7201a8"
             ],
             [
              0.3333333333333333,
              "#9c179e"
             ],
             [
              0.4444444444444444,
              "#bd3786"
             ],
             [
              0.5555555555555556,
              "#d8576b"
             ],
             [
              0.6666666666666666,
              "#ed7953"
             ],
             [
              0.7777777777777778,
              "#fb9f3a"
             ],
             [
              0.8888888888888888,
              "#fdca26"
             ],
             [
              1,
              "#f0f921"
             ]
            ],
            "type": "heatmap"
           }
          ],
          "heatmapgl": [
           {
            "colorbar": {
             "outlinewidth": 0,
             "ticks": ""
            },
            "colorscale": [
             [
              0,
              "#0d0887"
             ],
             [
              0.1111111111111111,
              "#46039f"
             ],
             [
              0.2222222222222222,
              "#7201a8"
             ],
             [
              0.3333333333333333,
              "#9c179e"
             ],
             [
              0.4444444444444444,
              "#bd3786"
             ],
             [
              0.5555555555555556,
              "#d8576b"
             ],
             [
              0.6666666666666666,
              "#ed7953"
             ],
             [
              0.7777777777777778,
              "#fb9f3a"
             ],
             [
              0.8888888888888888,
              "#fdca26"
             ],
             [
              1,
              "#f0f921"
             ]
            ],
            "type": "heatmapgl"
           }
          ],
          "histogram": [
           {
            "marker": {
             "pattern": {
              "fillmode": "overlay",
              "size": 10,
              "solidity": 0.2
             }
            },
            "type": "histogram"
           }
          ],
          "histogram2d": [
           {
            "colorbar": {
             "outlinewidth": 0,
             "ticks": ""
            },
            "colorscale": [
             [
              0,
              "#0d0887"
             ],
             [
              0.1111111111111111,
              "#46039f"
             ],
             [
              0.2222222222222222,
              "#7201a8"
             ],
             [
              0.3333333333333333,
              "#9c179e"
             ],
             [
              0.4444444444444444,
              "#bd3786"
             ],
             [
              0.5555555555555556,
              "#d8576b"
             ],
             [
              0.6666666666666666,
              "#ed7953"
             ],
             [
              0.7777777777777778,
              "#fb9f3a"
             ],
             [
              0.8888888888888888,
              "#fdca26"
             ],
             [
              1,
              "#f0f921"
             ]
            ],
            "type": "histogram2d"
           }
          ],
          "histogram2dcontour": [
           {
            "colorbar": {
             "outlinewidth": 0,
             "ticks": ""
            },
            "colorscale": [
             [
              0,
              "#0d0887"
             ],
             [
              0.1111111111111111,
              "#46039f"
             ],
             [
              0.2222222222222222,
              "#7201a8"
             ],
             [
              0.3333333333333333,
              "#9c179e"
             ],
             [
              0.4444444444444444,
              "#bd3786"
             ],
             [
              0.5555555555555556,
              "#d8576b"
             ],
             [
              0.6666666666666666,
              "#ed7953"
             ],
             [
              0.7777777777777778,
              "#fb9f3a"
             ],
             [
              0.8888888888888888,
              "#fdca26"
             ],
             [
              1,
              "#f0f921"
             ]
            ],
            "type": "histogram2dcontour"
           }
          ],
          "mesh3d": [
           {
            "colorbar": {
             "outlinewidth": 0,
             "ticks": ""
            },
            "type": "mesh3d"
           }
          ],
          "parcoords": [
           {
            "line": {
             "colorbar": {
              "outlinewidth": 0,
              "ticks": ""
             }
            },
            "type": "parcoords"
           }
          ],
          "pie": [
           {
            "automargin": true,
            "type": "pie"
           }
          ],
          "scatter": [
           {
            "fillpattern": {
             "fillmode": "overlay",
             "size": 10,
             "solidity": 0.2
            },
            "type": "scatter"
           }
          ],
          "scatter3d": [
           {
            "line": {
             "colorbar": {
              "outlinewidth": 0,
              "ticks": ""
             }
            },
            "marker": {
             "colorbar": {
              "outlinewidth": 0,
              "ticks": ""
             }
            },
            "type": "scatter3d"
           }
          ],
          "scattercarpet": [
           {
            "marker": {
             "colorbar": {
              "outlinewidth": 0,
              "ticks": ""
             }
            },
            "type": "scattercarpet"
           }
          ],
          "scattergeo": [
           {
            "marker": {
             "colorbar": {
              "outlinewidth": 0,
              "ticks": ""
             }
            },
            "type": "scattergeo"
           }
          ],
          "scattergl": [
           {
            "marker": {
             "colorbar": {
              "outlinewidth": 0,
              "ticks": ""
             }
            },
            "type": "scattergl"
           }
          ],
          "scattermapbox": [
           {
            "marker": {
             "colorbar": {
              "outlinewidth": 0,
              "ticks": ""
             }
            },
            "type": "scattermapbox"
           }
          ],
          "scatterpolar": [
           {
            "marker": {
             "colorbar": {
              "outlinewidth": 0,
              "ticks": ""
             }
            },
            "type": "scatterpolar"
           }
          ],
          "scatterpolargl": [
           {
            "marker": {
             "colorbar": {
              "outlinewidth": 0,
              "ticks": ""
             }
            },
            "type": "scatterpolargl"
           }
          ],
          "scatterternary": [
           {
            "marker": {
             "colorbar": {
              "outlinewidth": 0,
              "ticks": ""
             }
            },
            "type": "scatterternary"
           }
          ],
          "surface": [
           {
            "colorbar": {
             "outlinewidth": 0,
             "ticks": ""
            },
            "colorscale": [
             [
              0,
              "#0d0887"
             ],
             [
              0.1111111111111111,
              "#46039f"
             ],
             [
              0.2222222222222222,
              "#7201a8"
             ],
             [
              0.3333333333333333,
              "#9c179e"
             ],
             [
              0.4444444444444444,
              "#bd3786"
             ],
             [
              0.5555555555555556,
              "#d8576b"
             ],
             [
              0.6666666666666666,
              "#ed7953"
             ],
             [
              0.7777777777777778,
              "#fb9f3a"
             ],
             [
              0.8888888888888888,
              "#fdca26"
             ],
             [
              1,
              "#f0f921"
             ]
            ],
            "type": "surface"
           }
          ],
          "table": [
           {
            "cells": {
             "fill": {
              "color": "#EBF0F8"
             },
             "line": {
              "color": "white"
             }
            },
            "header": {
             "fill": {
              "color": "#C8D4E3"
             },
             "line": {
              "color": "white"
             }
            },
            "type": "table"
           }
          ]
         },
         "layout": {
          "annotationdefaults": {
           "arrowcolor": "#2a3f5f",
           "arrowhead": 0,
           "arrowwidth": 1
          },
          "autotypenumbers": "strict",
          "coloraxis": {
           "colorbar": {
            "outlinewidth": 0,
            "ticks": ""
           }
          },
          "colorscale": {
           "diverging": [
            [
             0,
             "#8e0152"
            ],
            [
             0.1,
             "#c51b7d"
            ],
            [
             0.2,
             "#de77ae"
            ],
            [
             0.3,
             "#f1b6da"
            ],
            [
             0.4,
             "#fde0ef"
            ],
            [
             0.5,
             "#f7f7f7"
            ],
            [
             0.6,
             "#e6f5d0"
            ],
            [
             0.7,
             "#b8e186"
            ],
            [
             0.8,
             "#7fbc41"
            ],
            [
             0.9,
             "#4d9221"
            ],
            [
             1,
             "#276419"
            ]
           ],
           "sequential": [
            [
             0,
             "#0d0887"
            ],
            [
             0.1111111111111111,
             "#46039f"
            ],
            [
             0.2222222222222222,
             "#7201a8"
            ],
            [
             0.3333333333333333,
             "#9c179e"
            ],
            [
             0.4444444444444444,
             "#bd3786"
            ],
            [
             0.5555555555555556,
             "#d8576b"
            ],
            [
             0.6666666666666666,
             "#ed7953"
            ],
            [
             0.7777777777777778,
             "#fb9f3a"
            ],
            [
             0.8888888888888888,
             "#fdca26"
            ],
            [
             1,
             "#f0f921"
            ]
           ],
           "sequentialminus": [
            [
             0,
             "#0d0887"
            ],
            [
             0.1111111111111111,
             "#46039f"
            ],
            [
             0.2222222222222222,
             "#7201a8"
            ],
            [
             0.3333333333333333,
             "#9c179e"
            ],
            [
             0.4444444444444444,
             "#bd3786"
            ],
            [
             0.5555555555555556,
             "#d8576b"
            ],
            [
             0.6666666666666666,
             "#ed7953"
            ],
            [
             0.7777777777777778,
             "#fb9f3a"
            ],
            [
             0.8888888888888888,
             "#fdca26"
            ],
            [
             1,
             "#f0f921"
            ]
           ]
          },
          "colorway": [
           "#636efa",
           "#EF553B",
           "#00cc96",
           "#ab63fa",
           "#FFA15A",
           "#19d3f3",
           "#FF6692",
           "#B6E880",
           "#FF97FF",
           "#FECB52"
          ],
          "font": {
           "color": "#2a3f5f"
          },
          "geo": {
           "bgcolor": "white",
           "lakecolor": "white",
           "landcolor": "#E5ECF6",
           "showlakes": true,
           "showland": true,
           "subunitcolor": "white"
          },
          "hoverlabel": {
           "align": "left"
          },
          "hovermode": "closest",
          "mapbox": {
           "style": "light"
          },
          "paper_bgcolor": "white",
          "plot_bgcolor": "#E5ECF6",
          "polar": {
           "angularaxis": {
            "gridcolor": "white",
            "linecolor": "white",
            "ticks": ""
           },
           "bgcolor": "#E5ECF6",
           "radialaxis": {
            "gridcolor": "white",
            "linecolor": "white",
            "ticks": ""
           }
          },
          "scene": {
           "xaxis": {
            "backgroundcolor": "#E5ECF6",
            "gridcolor": "white",
            "gridwidth": 2,
            "linecolor": "white",
            "showbackground": true,
            "ticks": "",
            "zerolinecolor": "white"
           },
           "yaxis": {
            "backgroundcolor": "#E5ECF6",
            "gridcolor": "white",
            "gridwidth": 2,
            "linecolor": "white",
            "showbackground": true,
            "ticks": "",
            "zerolinecolor": "white"
           },
           "zaxis": {
            "backgroundcolor": "#E5ECF6",
            "gridcolor": "white",
            "gridwidth": 2,
            "linecolor": "white",
            "showbackground": true,
            "ticks": "",
            "zerolinecolor": "white"
           }
          },
          "shapedefaults": {
           "line": {
            "color": "#2a3f5f"
           }
          },
          "ternary": {
           "aaxis": {
            "gridcolor": "white",
            "linecolor": "white",
            "ticks": ""
           },
           "baxis": {
            "gridcolor": "white",
            "linecolor": "white",
            "ticks": ""
           },
           "bgcolor": "#E5ECF6",
           "caxis": {
            "gridcolor": "white",
            "linecolor": "white",
            "ticks": ""
           }
          },
          "title": {
           "x": 0.05
          },
          "xaxis": {
           "automargin": true,
           "gridcolor": "white",
           "linecolor": "white",
           "ticks": "",
           "title": {
            "standoff": 15
           },
           "zerolinecolor": "white",
           "zerolinewidth": 2
          },
          "yaxis": {
           "automargin": true,
           "gridcolor": "white",
           "linecolor": "white",
           "ticks": "",
           "title": {
            "standoff": 15
           },
           "zerolinecolor": "white",
           "zerolinewidth": 2
          }
         }
        },
        "title": {
         "text": "Optimization History Plot"
        },
        "xaxis": {
         "title": {
          "text": "Trial"
         }
        },
        "yaxis": {
         "title": {
          "text": "Objective Value"
         }
        }
       }
      }
     },
     "metadata": {},
     "output_type": "display_data"
    }
   ],
   "source": [
    "optuna.visualization.plot_optimization_history(study)"
   ]
  },
  {
   "cell_type": "code",
   "execution_count": 15,
   "metadata": {},
   "outputs": [
    {
     "data": {
      "application/vnd.plotly.v1+json": {
       "config": {
        "plotlyServerURL": "https://plot.ly"
       },
       "data": [
        {
         "marker": {
          "color": [
           0,
           1,
           2,
           3,
           4,
           5,
           6,
           7,
           8,
           9,
           10,
           11,
           12,
           13,
           14,
           15,
           16,
           17,
           18,
           19,
           20,
           21,
           22,
           23,
           24,
           25,
           26,
           27,
           28,
           29,
           30,
           31,
           32,
           33,
           34,
           35,
           36,
           37,
           38,
           39,
           40,
           41,
           42,
           43,
           44,
           45,
           46,
           47,
           48,
           49,
           50,
           51,
           52,
           53,
           54,
           55,
           56,
           57,
           58,
           59,
           60,
           61,
           62,
           63,
           64,
           65,
           66,
           67,
           68,
           69,
           70,
           71,
           72,
           73,
           74,
           75,
           76,
           77,
           78,
           79,
           80,
           81,
           82,
           83,
           84,
           85,
           86,
           87,
           88,
           89,
           90,
           91,
           92,
           93,
           94,
           95,
           96,
           97,
           98,
           99
          ],
          "colorbar": {
           "title": {
            "text": "Trial"
           },
           "x": 1,
           "xpad": 40
          },
          "colorscale": [
           [
            0,
            "rgb(247,251,255)"
           ],
           [
            0.125,
            "rgb(222,235,247)"
           ],
           [
            0.25,
            "rgb(198,219,239)"
           ],
           [
            0.375,
            "rgb(158,202,225)"
           ],
           [
            0.5,
            "rgb(107,174,214)"
           ],
           [
            0.625,
            "rgb(66,146,198)"
           ],
           [
            0.75,
            "rgb(33,113,181)"
           ],
           [
            0.875,
            "rgb(8,81,156)"
           ],
           [
            1,
            "rgb(8,48,107)"
           ]
          ],
          "line": {
           "color": "Grey",
           "width": 0.5
          },
          "showscale": true
         },
         "mode": "markers",
         "name": "Feasible Trial",
         "showlegend": false,
         "type": "scatter",
         "x": [
          48,
          16,
          39,
          18,
          31,
          15,
          42,
          11,
          48,
          14,
          30,
          37,
          17,
          46,
          18,
          21,
          32,
          50,
          43,
          13,
          35,
          23,
          29,
          33,
          27,
          36,
          20,
          13,
          43,
          17,
          46,
          27,
          30,
          23,
          38,
          20,
          11,
          21,
          30,
          41,
          35,
          44,
          34,
          19,
          25,
          14,
          37,
          19,
          35,
          46,
          13,
          10,
          16,
          19,
          40,
          33,
          20,
          35,
          30,
          10,
          49,
          48,
          44,
          22,
          38,
          50,
          40,
          22,
          47,
          36,
          23,
          11,
          34,
          24,
          18,
          31,
          50,
          21,
          49,
          17,
          39,
          40,
          20,
          14,
          38,
          29,
          35,
          35,
          16,
          34,
          36,
          25,
          12,
          38,
          10,
          38,
          42,
          43,
          41,
          27
         ],
         "xaxis": "x",
         "y": [
          -4.492232889822825,
          -5.135907141854878,
          -5.547653344597071,
          -3.013679850017632,
          -3.828406881097854,
          -3.8829166856448536,
          -4.060210271570685,
          -3.258602070694553,
          -5.088763156085738,
          -3.954290323774856,
          -5.331837102830099,
          -4.043690984904937,
          -5.022010413835533,
          -5.333432121477555,
          -3.85651660150936,
          -3.9006960791282026,
          -5.104698872846437,
          -3.5908076549436294,
          -4.92555999351435,
          -2.677635432495068,
          -2.5272575861297812,
          -4.694726707779843,
          -4.844778150501353,
          -3.988427583792504,
          -2.370159618091831,
          -4.050999610922298,
          -4.9947927167071,
          -3.016779347943916,
          -5.177020754715311,
          -4.217895899189275,
          -2.530846580328416,
          -5.210105676771522,
          -3.6460824112428263,
          -3.9047763011958536,
          -5.560513511969064,
          -3.798468156846223,
          -4.087542551458808,
          -3.783385455177361,
          -3.8047660944542026,
          -4.955671023312275,
          -4.234788658795308,
          -2.9681351920281376,
          -3.1577213538242397,
          -3.2915272048236126,
          -3.530086532786794,
          -5.206813020918366,
          -4.239164219589467,
          -5.293079275701154,
          -3.8438907770984194,
          -5.008992524164933,
          -5.253159684468904,
          -4.773570347498039,
          -4.930153477414815,
          -3.588573826858159,
          -5.145587409951811,
          -3.850274215772297,
          -3.9017311718752623,
          -4.076106497174095,
          -4.939741364995378,
          -3.3076402344082774,
          -3.8483133518271244,
          -5.446452853608433,
          -3.860516094642802,
          -4.222327504961659,
          -2.9873550682429184,
          -4.035648062914617,
          -4.8378644313975565,
          -5.076562396343503,
          -4.095593721902541,
          -5.044000484021469,
          -2.6652100674244474,
          -4.205403918009409,
          -1.863961406794094,
          -4.0532715257969,
          -3.058670925005253,
          -4.655216671672115,
          -3.7906250963251487,
          -2.735846167833211,
          -4.919924495055311,
          -3.7544111701924647,
          -3.7187762378447196,
          -4.520379504593625,
          -5.034774884565431,
          -1.9410817334892883,
          -2.8375918098614643,
          -3.8794991770528684,
          -3.0790675975934256,
          -5.204415077506878,
          -4.66385533922328,
          -4.2534098732991925,
          -4.16997497769295,
          -5.2683152449829835,
          -1.9202193893592425,
          -3.9038831296737677,
          -3.7894542951133636,
          -5.3220008159955166,
          -3.0355290622352085,
          -3.894680434113267,
          -5.301746685021605,
          -4.979454027441929
         ],
         "yaxis": "y"
        },
        {
         "marker": {
          "color": [
           0,
           1,
           2,
           3,
           4,
           5,
           6,
           7,
           8,
           9,
           10,
           11,
           12,
           13,
           14,
           15,
           16,
           17,
           18,
           19,
           20,
           21,
           22,
           23,
           24,
           25,
           26,
           27,
           28,
           29,
           30,
           31,
           32,
           33,
           34,
           35,
           36,
           37,
           38,
           39,
           40,
           41,
           42,
           43,
           44,
           45,
           46,
           47,
           48,
           49,
           50,
           51,
           52,
           53,
           54,
           55,
           56,
           57,
           58,
           59,
           60,
           61,
           62,
           63,
           64,
           65,
           66,
           67,
           68,
           69,
           70,
           71,
           72,
           73,
           74,
           75,
           76,
           77,
           78,
           79,
           80,
           81,
           82,
           83,
           84,
           85,
           86,
           87,
           88,
           89,
           90,
           91,
           92,
           93,
           94,
           95,
           96,
           97,
           98,
           99
          ],
          "colorbar": {
           "title": {
            "text": "Trial"
           },
           "x": 1,
           "xpad": 40
          },
          "colorscale": [
           [
            0,
            "rgb(247,251,255)"
           ],
           [
            0.125,
            "rgb(222,235,247)"
           ],
           [
            0.25,
            "rgb(198,219,239)"
           ],
           [
            0.375,
            "rgb(158,202,225)"
           ],
           [
            0.5,
            "rgb(107,174,214)"
           ],
           [
            0.625,
            "rgb(66,146,198)"
           ],
           [
            0.75,
            "rgb(33,113,181)"
           ],
           [
            0.875,
            "rgb(8,81,156)"
           ],
           [
            1,
            "rgb(8,48,107)"
           ]
          ],
          "line": {
           "color": "Grey",
           "width": 0.5
          },
          "showscale": false
         },
         "mode": "markers",
         "name": "Feasible Trial",
         "showlegend": false,
         "type": "scatter",
         "x": [
          20,
          28,
          32,
          6,
          10,
          12,
          17,
          6,
          26,
          15,
          30,
          17,
          25,
          30,
          11,
          12,
          26,
          7,
          24,
          4,
          3,
          21,
          23,
          16,
          4,
          17,
          25,
          6,
          28,
          18,
          4,
          28,
          8,
          11,
          32,
          10,
          17,
          8,
          8,
          24,
          18,
          6,
          1,
          6,
          5,
          29,
          18,
          29,
          12,
          25,
          29,
          22,
          23,
          8,
          28,
          12,
          13,
          17,
          24,
          6,
          12,
          31,
          13,
          18,
          4,
          17,
          23,
          26,
          17,
          26,
          4,
          18,
          2,
          17,
          3,
          21,
          11,
          3,
          23,
          9,
          9,
          20,
          25,
          2,
          4,
          14,
          2,
          28,
          21,
          19,
          18,
          29,
          1,
          11,
          10,
          29,
          6,
          14,
          30,
          25
         ],
         "xaxis": "x2",
         "y": [
          -4.492232889822825,
          -5.135907141854878,
          -5.547653344597071,
          -3.013679850017632,
          -3.828406881097854,
          -3.8829166856448536,
          -4.060210271570685,
          -3.258602070694553,
          -5.088763156085738,
          -3.954290323774856,
          -5.331837102830099,
          -4.043690984904937,
          -5.022010413835533,
          -5.333432121477555,
          -3.85651660150936,
          -3.9006960791282026,
          -5.104698872846437,
          -3.5908076549436294,
          -4.92555999351435,
          -2.677635432495068,
          -2.5272575861297812,
          -4.694726707779843,
          -4.844778150501353,
          -3.988427583792504,
          -2.370159618091831,
          -4.050999610922298,
          -4.9947927167071,
          -3.016779347943916,
          -5.177020754715311,
          -4.217895899189275,
          -2.530846580328416,
          -5.210105676771522,
          -3.6460824112428263,
          -3.9047763011958536,
          -5.560513511969064,
          -3.798468156846223,
          -4.087542551458808,
          -3.783385455177361,
          -3.8047660944542026,
          -4.955671023312275,
          -4.234788658795308,
          -2.9681351920281376,
          -3.1577213538242397,
          -3.2915272048236126,
          -3.530086532786794,
          -5.206813020918366,
          -4.239164219589467,
          -5.293079275701154,
          -3.8438907770984194,
          -5.008992524164933,
          -5.253159684468904,
          -4.773570347498039,
          -4.930153477414815,
          -3.588573826858159,
          -5.145587409951811,
          -3.850274215772297,
          -3.9017311718752623,
          -4.076106497174095,
          -4.939741364995378,
          -3.3076402344082774,
          -3.8483133518271244,
          -5.446452853608433,
          -3.860516094642802,
          -4.222327504961659,
          -2.9873550682429184,
          -4.035648062914617,
          -4.8378644313975565,
          -5.076562396343503,
          -4.095593721902541,
          -5.044000484021469,
          -2.6652100674244474,
          -4.205403918009409,
          -1.863961406794094,
          -4.0532715257969,
          -3.058670925005253,
          -4.655216671672115,
          -3.7906250963251487,
          -2.735846167833211,
          -4.919924495055311,
          -3.7544111701924647,
          -3.7187762378447196,
          -4.520379504593625,
          -5.034774884565431,
          -1.9410817334892883,
          -2.8375918098614643,
          -3.8794991770528684,
          -3.0790675975934256,
          -5.204415077506878,
          -4.66385533922328,
          -4.2534098732991925,
          -4.16997497769295,
          -5.2683152449829835,
          -1.9202193893592425,
          -3.9038831296737677,
          -3.7894542951133636,
          -5.3220008159955166,
          -3.0355290622352085,
          -3.894680434113267,
          -5.301746685021605,
          -4.979454027441929
         ],
         "yaxis": "y2"
        },
        {
         "marker": {
          "color": [
           0,
           1,
           2,
           3,
           4,
           5,
           6,
           7,
           8,
           9,
           10,
           11,
           12,
           13,
           14,
           15,
           16,
           17,
           18,
           19,
           20,
           21,
           22,
           23,
           24,
           25,
           26,
           27,
           28,
           29,
           30,
           31,
           32,
           33,
           34,
           35,
           36,
           37,
           38,
           39,
           40,
           41,
           42,
           43,
           44,
           45,
           46,
           47,
           48,
           49,
           50,
           51,
           52,
           53,
           54,
           55,
           56,
           57,
           58,
           59,
           60,
           61,
           62,
           63,
           64,
           65,
           66,
           67,
           68,
           69,
           70,
           71,
           72,
           73,
           74,
           75,
           76,
           77,
           78,
           79,
           80,
           81,
           82,
           83,
           84,
           85,
           86,
           87,
           88,
           89,
           90,
           91,
           92,
           93,
           94,
           95,
           96,
           97,
           98,
           99
          ],
          "colorbar": {
           "title": {
            "text": "Trial"
           },
           "x": 1,
           "xpad": 40
          },
          "colorscale": [
           [
            0,
            "rgb(247,251,255)"
           ],
           [
            0.125,
            "rgb(222,235,247)"
           ],
           [
            0.25,
            "rgb(198,219,239)"
           ],
           [
            0.375,
            "rgb(158,202,225)"
           ],
           [
            0.5,
            "rgb(107,174,214)"
           ],
           [
            0.625,
            "rgb(66,146,198)"
           ],
           [
            0.75,
            "rgb(33,113,181)"
           ],
           [
            0.875,
            "rgb(8,81,156)"
           ],
           [
            1,
            "rgb(8,48,107)"
           ]
          ],
          "line": {
           "color": "Grey",
           "width": 0.5
          },
          "showscale": false
         },
         "mode": "markers",
         "name": "Feasible Trial",
         "showlegend": false,
         "type": "scatter",
         "x": [
          24,
          3,
          2,
          7,
          15,
          11,
          8,
          20,
          31,
          23,
          3,
          11,
          32,
          20,
          3,
          27,
          6,
          25,
          23,
          13,
          12,
          24,
          5,
          25,
          2,
          11,
          14,
          10,
          21,
          29,
          11,
          27,
          14,
          31,
          13,
          17,
          20,
          30,
          32,
          9,
          21,
          11,
          23,
          22,
          31,
          30,
          27,
          4,
          12,
          29,
          7,
          5,
          19,
          24,
          22,
          4,
          32,
          26,
          8,
          22,
          30,
          15,
          11,
          7,
          19,
          6,
          23,
          27,
          17,
          23,
          13,
          16,
          2,
          5,
          21,
          18,
          18,
          15,
          27,
          6,
          22,
          19,
          13,
          3,
          16,
          7,
          21,
          17,
          4,
          31,
          16,
          31,
          5,
          4,
          27,
          21,
          10,
          32,
          12,
          25
         ],
         "xaxis": "x3",
         "y": [
          -4.492232889822825,
          -5.135907141854878,
          -5.547653344597071,
          -3.013679850017632,
          -3.828406881097854,
          -3.8829166856448536,
          -4.060210271570685,
          -3.258602070694553,
          -5.088763156085738,
          -3.954290323774856,
          -5.331837102830099,
          -4.043690984904937,
          -5.022010413835533,
          -5.333432121477555,
          -3.85651660150936,
          -3.9006960791282026,
          -5.104698872846437,
          -3.5908076549436294,
          -4.92555999351435,
          -2.677635432495068,
          -2.5272575861297812,
          -4.694726707779843,
          -4.844778150501353,
          -3.988427583792504,
          -2.370159618091831,
          -4.050999610922298,
          -4.9947927167071,
          -3.016779347943916,
          -5.177020754715311,
          -4.217895899189275,
          -2.530846580328416,
          -5.210105676771522,
          -3.6460824112428263,
          -3.9047763011958536,
          -5.560513511969064,
          -3.798468156846223,
          -4.087542551458808,
          -3.783385455177361,
          -3.8047660944542026,
          -4.955671023312275,
          -4.234788658795308,
          -2.9681351920281376,
          -3.1577213538242397,
          -3.2915272048236126,
          -3.530086532786794,
          -5.206813020918366,
          -4.239164219589467,
          -5.293079275701154,
          -3.8438907770984194,
          -5.008992524164933,
          -5.253159684468904,
          -4.773570347498039,
          -4.930153477414815,
          -3.588573826858159,
          -5.145587409951811,
          -3.850274215772297,
          -3.9017311718752623,
          -4.076106497174095,
          -4.939741364995378,
          -3.3076402344082774,
          -3.8483133518271244,
          -5.446452853608433,
          -3.860516094642802,
          -4.222327504961659,
          -2.9873550682429184,
          -4.035648062914617,
          -4.8378644313975565,
          -5.076562396343503,
          -4.095593721902541,
          -5.044000484021469,
          -2.6652100674244474,
          -4.205403918009409,
          -1.863961406794094,
          -4.0532715257969,
          -3.058670925005253,
          -4.655216671672115,
          -3.7906250963251487,
          -2.735846167833211,
          -4.919924495055311,
          -3.7544111701924647,
          -3.7187762378447196,
          -4.520379504593625,
          -5.034774884565431,
          -1.9410817334892883,
          -2.8375918098614643,
          -3.8794991770528684,
          -3.0790675975934256,
          -5.204415077506878,
          -4.66385533922328,
          -4.2534098732991925,
          -4.16997497769295,
          -5.2683152449829835,
          -1.9202193893592425,
          -3.9038831296737677,
          -3.7894542951133636,
          -5.3220008159955166,
          -3.0355290622352085,
          -3.894680434113267,
          -5.301746685021605,
          -4.979454027441929
         ],
         "yaxis": "y3"
        },
        {
         "marker": {
          "color": [
           0,
           1,
           2,
           3,
           4,
           5,
           6,
           7,
           8,
           9,
           10,
           11,
           12,
           13,
           14,
           15,
           16,
           17,
           18,
           19,
           20,
           21,
           22,
           23,
           24,
           25,
           26,
           27,
           28,
           29,
           30,
           31,
           32,
           33,
           34,
           35,
           36,
           37,
           38,
           39,
           40,
           41,
           42,
           43,
           44,
           45,
           46,
           47,
           48,
           49,
           50,
           51,
           52,
           53,
           54,
           55,
           56,
           57,
           58,
           59,
           60,
           61,
           62,
           63,
           64,
           65,
           66,
           67,
           68,
           69,
           70,
           71,
           72,
           73,
           74,
           75,
           76,
           77,
           78,
           79,
           80,
           81,
           82,
           83,
           84,
           85,
           86,
           87,
           88,
           89,
           90,
           91,
           92,
           93,
           94,
           95,
           96,
           97,
           98,
           99
          ],
          "colorbar": {
           "title": {
            "text": "Trial"
           },
           "x": 1,
           "xpad": 40
          },
          "colorscale": [
           [
            0,
            "rgb(247,251,255)"
           ],
           [
            0.125,
            "rgb(222,235,247)"
           ],
           [
            0.25,
            "rgb(198,219,239)"
           ],
           [
            0.375,
            "rgb(158,202,225)"
           ],
           [
            0.5,
            "rgb(107,174,214)"
           ],
           [
            0.625,
            "rgb(66,146,198)"
           ],
           [
            0.75,
            "rgb(33,113,181)"
           ],
           [
            0.875,
            "rgb(8,81,156)"
           ],
           [
            1,
            "rgb(8,48,107)"
           ]
          ],
          "line": {
           "color": "Grey",
           "width": 0.5
          },
          "showscale": false
         },
         "mode": "markers",
         "name": "Feasible Trial",
         "showlegend": false,
         "type": "scatter",
         "x": [
          437,
          240,
          641,
          850,
          374,
          651,
          510,
          633,
          158,
          374,
          209,
          333,
          592,
          946,
          179,
          450,
          353,
          167,
          104,
          794,
          877,
          380,
          899,
          785,
          570,
          128,
          917,
          306,
          937,
          824,
          827,
          305,
          106,
          207,
          567,
          967,
          356,
          146,
          230,
          705,
          431,
          181,
          136,
          561,
          722,
          407,
          332,
          577,
          911,
          754,
          678,
          646,
          104,
          687,
          393,
          692,
          338,
          903,
          619,
          352,
          947,
          113,
          968,
          866,
          943,
          654,
          890,
          423,
          881,
          819,
          901,
          621,
          358,
          841,
          793,
          146,
          754,
          816,
          122,
          468,
          594,
          960,
          478,
          112,
          870,
          542,
          459,
          437,
          693,
          123,
          449,
          948,
          276,
          185,
          861,
          206,
          762,
          776,
          435,
          873
         ],
         "xaxis": "x4",
         "y": [
          -4.492232889822825,
          -5.135907141854878,
          -5.547653344597071,
          -3.013679850017632,
          -3.828406881097854,
          -3.8829166856448536,
          -4.060210271570685,
          -3.258602070694553,
          -5.088763156085738,
          -3.954290323774856,
          -5.331837102830099,
          -4.043690984904937,
          -5.022010413835533,
          -5.333432121477555,
          -3.85651660150936,
          -3.9006960791282026,
          -5.104698872846437,
          -3.5908076549436294,
          -4.92555999351435,
          -2.677635432495068,
          -2.5272575861297812,
          -4.694726707779843,
          -4.844778150501353,
          -3.988427583792504,
          -2.370159618091831,
          -4.050999610922298,
          -4.9947927167071,
          -3.016779347943916,
          -5.177020754715311,
          -4.217895899189275,
          -2.530846580328416,
          -5.210105676771522,
          -3.6460824112428263,
          -3.9047763011958536,
          -5.560513511969064,
          -3.798468156846223,
          -4.087542551458808,
          -3.783385455177361,
          -3.8047660944542026,
          -4.955671023312275,
          -4.234788658795308,
          -2.9681351920281376,
          -3.1577213538242397,
          -3.2915272048236126,
          -3.530086532786794,
          -5.206813020918366,
          -4.239164219589467,
          -5.293079275701154,
          -3.8438907770984194,
          -5.008992524164933,
          -5.253159684468904,
          -4.773570347498039,
          -4.930153477414815,
          -3.588573826858159,
          -5.145587409951811,
          -3.850274215772297,
          -3.9017311718752623,
          -4.076106497174095,
          -4.939741364995378,
          -3.3076402344082774,
          -3.8483133518271244,
          -5.446452853608433,
          -3.860516094642802,
          -4.222327504961659,
          -2.9873550682429184,
          -4.035648062914617,
          -4.8378644313975565,
          -5.076562396343503,
          -4.095593721902541,
          -5.044000484021469,
          -2.6652100674244474,
          -4.205403918009409,
          -1.863961406794094,
          -4.0532715257969,
          -3.058670925005253,
          -4.655216671672115,
          -3.7906250963251487,
          -2.735846167833211,
          -4.919924495055311,
          -3.7544111701924647,
          -3.7187762378447196,
          -4.520379504593625,
          -5.034774884565431,
          -1.9410817334892883,
          -2.8375918098614643,
          -3.8794991770528684,
          -3.0790675975934256,
          -5.204415077506878,
          -4.66385533922328,
          -4.2534098732991925,
          -4.16997497769295,
          -5.2683152449829835,
          -1.9202193893592425,
          -3.9038831296737677,
          -3.7894542951133636,
          -5.3220008159955166,
          -3.0355290622352085,
          -3.894680434113267,
          -5.301746685021605,
          -4.979454027441929
         ],
         "yaxis": "y4"
        }
       ],
       "layout": {
        "template": {
         "data": {
          "bar": [
           {
            "error_x": {
             "color": "#2a3f5f"
            },
            "error_y": {
             "color": "#2a3f5f"
            },
            "marker": {
             "line": {
              "color": "#E5ECF6",
              "width": 0.5
             },
             "pattern": {
              "fillmode": "overlay",
              "size": 10,
              "solidity": 0.2
             }
            },
            "type": "bar"
           }
          ],
          "barpolar": [
           {
            "marker": {
             "line": {
              "color": "#E5ECF6",
              "width": 0.5
             },
             "pattern": {
              "fillmode": "overlay",
              "size": 10,
              "solidity": 0.2
             }
            },
            "type": "barpolar"
           }
          ],
          "carpet": [
           {
            "aaxis": {
             "endlinecolor": "#2a3f5f",
             "gridcolor": "white",
             "linecolor": "white",
             "minorgridcolor": "white",
             "startlinecolor": "#2a3f5f"
            },
            "baxis": {
             "endlinecolor": "#2a3f5f",
             "gridcolor": "white",
             "linecolor": "white",
             "minorgridcolor": "white",
             "startlinecolor": "#2a3f5f"
            },
            "type": "carpet"
           }
          ],
          "choropleth": [
           {
            "colorbar": {
             "outlinewidth": 0,
             "ticks": ""
            },
            "type": "choropleth"
           }
          ],
          "contour": [
           {
            "colorbar": {
             "outlinewidth": 0,
             "ticks": ""
            },
            "colorscale": [
             [
              0,
              "#0d0887"
             ],
             [
              0.1111111111111111,
              "#46039f"
             ],
             [
              0.2222222222222222,
              "#7201a8"
             ],
             [
              0.3333333333333333,
              "#9c179e"
             ],
             [
              0.4444444444444444,
              "#bd3786"
             ],
             [
              0.5555555555555556,
              "#d8576b"
             ],
             [
              0.6666666666666666,
              "#ed7953"
             ],
             [
              0.7777777777777778,
              "#fb9f3a"
             ],
             [
              0.8888888888888888,
              "#fdca26"
             ],
             [
              1,
              "#f0f921"
             ]
            ],
            "type": "contour"
           }
          ],
          "contourcarpet": [
           {
            "colorbar": {
             "outlinewidth": 0,
             "ticks": ""
            },
            "type": "contourcarpet"
           }
          ],
          "heatmap": [
           {
            "colorbar": {
             "outlinewidth": 0,
             "ticks": ""
            },
            "colorscale": [
             [
              0,
              "#0d0887"
             ],
             [
              0.1111111111111111,
              "#46039f"
             ],
             [
              0.2222222222222222,
              "#7201a8"
             ],
             [
              0.3333333333333333,
              "#9c179e"
             ],
             [
              0.4444444444444444,
              "#bd3786"
             ],
             [
              0.5555555555555556,
              "#d8576b"
             ],
             [
              0.6666666666666666,
              "#ed7953"
             ],
             [
              0.7777777777777778,
              "#fb9f3a"
             ],
             [
              0.8888888888888888,
              "#fdca26"
             ],
             [
              1,
              "#f0f921"
             ]
            ],
            "type": "heatmap"
           }
          ],
          "heatmapgl": [
           {
            "colorbar": {
             "outlinewidth": 0,
             "ticks": ""
            },
            "colorscale": [
             [
              0,
              "#0d0887"
             ],
             [
              0.1111111111111111,
              "#46039f"
             ],
             [
              0.2222222222222222,
              "#7201a8"
             ],
             [
              0.3333333333333333,
              "#9c179e"
             ],
             [
              0.4444444444444444,
              "#bd3786"
             ],
             [
              0.5555555555555556,
              "#d8576b"
             ],
             [
              0.6666666666666666,
              "#ed7953"
             ],
             [
              0.7777777777777778,
              "#fb9f3a"
             ],
             [
              0.8888888888888888,
              "#fdca26"
             ],
             [
              1,
              "#f0f921"
             ]
            ],
            "type": "heatmapgl"
           }
          ],
          "histogram": [
           {
            "marker": {
             "pattern": {
              "fillmode": "overlay",
              "size": 10,
              "solidity": 0.2
             }
            },
            "type": "histogram"
           }
          ],
          "histogram2d": [
           {
            "colorbar": {
             "outlinewidth": 0,
             "ticks": ""
            },
            "colorscale": [
             [
              0,
              "#0d0887"
             ],
             [
              0.1111111111111111,
              "#46039f"
             ],
             [
              0.2222222222222222,
              "#7201a8"
             ],
             [
              0.3333333333333333,
              "#9c179e"
             ],
             [
              0.4444444444444444,
              "#bd3786"
             ],
             [
              0.5555555555555556,
              "#d8576b"
             ],
             [
              0.6666666666666666,
              "#ed7953"
             ],
             [
              0.7777777777777778,
              "#fb9f3a"
             ],
             [
              0.8888888888888888,
              "#fdca26"
             ],
             [
              1,
              "#f0f921"
             ]
            ],
            "type": "histogram2d"
           }
          ],
          "histogram2dcontour": [
           {
            "colorbar": {
             "outlinewidth": 0,
             "ticks": ""
            },
            "colorscale": [
             [
              0,
              "#0d0887"
             ],
             [
              0.1111111111111111,
              "#46039f"
             ],
             [
              0.2222222222222222,
              "#7201a8"
             ],
             [
              0.3333333333333333,
              "#9c179e"
             ],
             [
              0.4444444444444444,
              "#bd3786"
             ],
             [
              0.5555555555555556,
              "#d8576b"
             ],
             [
              0.6666666666666666,
              "#ed7953"
             ],
             [
              0.7777777777777778,
              "#fb9f3a"
             ],
             [
              0.8888888888888888,
              "#fdca26"
             ],
             [
              1,
              "#f0f921"
             ]
            ],
            "type": "histogram2dcontour"
           }
          ],
          "mesh3d": [
           {
            "colorbar": {
             "outlinewidth": 0,
             "ticks": ""
            },
            "type": "mesh3d"
           }
          ],
          "parcoords": [
           {
            "line": {
             "colorbar": {
              "outlinewidth": 0,
              "ticks": ""
             }
            },
            "type": "parcoords"
           }
          ],
          "pie": [
           {
            "automargin": true,
            "type": "pie"
           }
          ],
          "scatter": [
           {
            "fillpattern": {
             "fillmode": "overlay",
             "size": 10,
             "solidity": 0.2
            },
            "type": "scatter"
           }
          ],
          "scatter3d": [
           {
            "line": {
             "colorbar": {
              "outlinewidth": 0,
              "ticks": ""
             }
            },
            "marker": {
             "colorbar": {
              "outlinewidth": 0,
              "ticks": ""
             }
            },
            "type": "scatter3d"
           }
          ],
          "scattercarpet": [
           {
            "marker": {
             "colorbar": {
              "outlinewidth": 0,
              "ticks": ""
             }
            },
            "type": "scattercarpet"
           }
          ],
          "scattergeo": [
           {
            "marker": {
             "colorbar": {
              "outlinewidth": 0,
              "ticks": ""
             }
            },
            "type": "scattergeo"
           }
          ],
          "scattergl": [
           {
            "marker": {
             "colorbar": {
              "outlinewidth": 0,
              "ticks": ""
             }
            },
            "type": "scattergl"
           }
          ],
          "scattermapbox": [
           {
            "marker": {
             "colorbar": {
              "outlinewidth": 0,
              "ticks": ""
             }
            },
            "type": "scattermapbox"
           }
          ],
          "scatterpolar": [
           {
            "marker": {
             "colorbar": {
              "outlinewidth": 0,
              "ticks": ""
             }
            },
            "type": "scatterpolar"
           }
          ],
          "scatterpolargl": [
           {
            "marker": {
             "colorbar": {
              "outlinewidth": 0,
              "ticks": ""
             }
            },
            "type": "scatterpolargl"
           }
          ],
          "scatterternary": [
           {
            "marker": {
             "colorbar": {
              "outlinewidth": 0,
              "ticks": ""
             }
            },
            "type": "scatterternary"
           }
          ],
          "surface": [
           {
            "colorbar": {
             "outlinewidth": 0,
             "ticks": ""
            },
            "colorscale": [
             [
              0,
              "#0d0887"
             ],
             [
              0.1111111111111111,
              "#46039f"
             ],
             [
              0.2222222222222222,
              "#7201a8"
             ],
             [
              0.3333333333333333,
              "#9c179e"
             ],
             [
              0.4444444444444444,
              "#bd3786"
             ],
             [
              0.5555555555555556,
              "#d8576b"
             ],
             [
              0.6666666666666666,
              "#ed7953"
             ],
             [
              0.7777777777777778,
              "#fb9f3a"
             ],
             [
              0.8888888888888888,
              "#fdca26"
             ],
             [
              1,
              "#f0f921"
             ]
            ],
            "type": "surface"
           }
          ],
          "table": [
           {
            "cells": {
             "fill": {
              "color": "#EBF0F8"
             },
             "line": {
              "color": "white"
             }
            },
            "header": {
             "fill": {
              "color": "#C8D4E3"
             },
             "line": {
              "color": "white"
             }
            },
            "type": "table"
           }
          ]
         },
         "layout": {
          "annotationdefaults": {
           "arrowcolor": "#2a3f5f",
           "arrowhead": 0,
           "arrowwidth": 1
          },
          "autotypenumbers": "strict",
          "coloraxis": {
           "colorbar": {
            "outlinewidth": 0,
            "ticks": ""
           }
          },
          "colorscale": {
           "diverging": [
            [
             0,
             "#8e0152"
            ],
            [
             0.1,
             "#c51b7d"
            ],
            [
             0.2,
             "#de77ae"
            ],
            [
             0.3,
             "#f1b6da"
            ],
            [
             0.4,
             "#fde0ef"
            ],
            [
             0.5,
             "#f7f7f7"
            ],
            [
             0.6,
             "#e6f5d0"
            ],
            [
             0.7,
             "#b8e186"
            ],
            [
             0.8,
             "#7fbc41"
            ],
            [
             0.9,
             "#4d9221"
            ],
            [
             1,
             "#276419"
            ]
           ],
           "sequential": [
            [
             0,
             "#0d0887"
            ],
            [
             0.1111111111111111,
             "#46039f"
            ],
            [
             0.2222222222222222,
             "#7201a8"
            ],
            [
             0.3333333333333333,
             "#9c179e"
            ],
            [
             0.4444444444444444,
             "#bd3786"
            ],
            [
             0.5555555555555556,
             "#d8576b"
            ],
            [
             0.6666666666666666,
             "#ed7953"
            ],
            [
             0.7777777777777778,
             "#fb9f3a"
            ],
            [
             0.8888888888888888,
             "#fdca26"
            ],
            [
             1,
             "#f0f921"
            ]
           ],
           "sequentialminus": [
            [
             0,
             "#0d0887"
            ],
            [
             0.1111111111111111,
             "#46039f"
            ],
            [
             0.2222222222222222,
             "#7201a8"
            ],
            [
             0.3333333333333333,
             "#9c179e"
            ],
            [
             0.4444444444444444,
             "#bd3786"
            ],
            [
             0.5555555555555556,
             "#d8576b"
            ],
            [
             0.6666666666666666,
             "#ed7953"
            ],
            [
             0.7777777777777778,
             "#fb9f3a"
            ],
            [
             0.8888888888888888,
             "#fdca26"
            ],
            [
             1,
             "#f0f921"
            ]
           ]
          },
          "colorway": [
           "#636efa",
           "#EF553B",
           "#00cc96",
           "#ab63fa",
           "#FFA15A",
           "#19d3f3",
           "#FF6692",
           "#B6E880",
           "#FF97FF",
           "#FECB52"
          ],
          "font": {
           "color": "#2a3f5f"
          },
          "geo": {
           "bgcolor": "white",
           "lakecolor": "white",
           "landcolor": "#E5ECF6",
           "showlakes": true,
           "showland": true,
           "subunitcolor": "white"
          },
          "hoverlabel": {
           "align": "left"
          },
          "hovermode": "closest",
          "mapbox": {
           "style": "light"
          },
          "paper_bgcolor": "white",
          "plot_bgcolor": "#E5ECF6",
          "polar": {
           "angularaxis": {
            "gridcolor": "white",
            "linecolor": "white",
            "ticks": ""
           },
           "bgcolor": "#E5ECF6",
           "radialaxis": {
            "gridcolor": "white",
            "linecolor": "white",
            "ticks": ""
           }
          },
          "scene": {
           "xaxis": {
            "backgroundcolor": "#E5ECF6",
            "gridcolor": "white",
            "gridwidth": 2,
            "linecolor": "white",
            "showbackground": true,
            "ticks": "",
            "zerolinecolor": "white"
           },
           "yaxis": {
            "backgroundcolor": "#E5ECF6",
            "gridcolor": "white",
            "gridwidth": 2,
            "linecolor": "white",
            "showbackground": true,
            "ticks": "",
            "zerolinecolor": "white"
           },
           "zaxis": {
            "backgroundcolor": "#E5ECF6",
            "gridcolor": "white",
            "gridwidth": 2,
            "linecolor": "white",
            "showbackground": true,
            "ticks": "",
            "zerolinecolor": "white"
           }
          },
          "shapedefaults": {
           "line": {
            "color": "#2a3f5f"
           }
          },
          "ternary": {
           "aaxis": {
            "gridcolor": "white",
            "linecolor": "white",
            "ticks": ""
           },
           "baxis": {
            "gridcolor": "white",
            "linecolor": "white",
            "ticks": ""
           },
           "bgcolor": "#E5ECF6",
           "caxis": {
            "gridcolor": "white",
            "linecolor": "white",
            "ticks": ""
           }
          },
          "title": {
           "x": 0.05
          },
          "xaxis": {
           "automargin": true,
           "gridcolor": "white",
           "linecolor": "white",
           "ticks": "",
           "title": {
            "standoff": 15
           },
           "zerolinecolor": "white",
           "zerolinewidth": 2
          },
          "yaxis": {
           "automargin": true,
           "gridcolor": "white",
           "linecolor": "white",
           "ticks": "",
           "title": {
            "standoff": 15
           },
           "zerolinecolor": "white",
           "zerolinewidth": 2
          }
         }
        },
        "title": {
         "text": "Slice Plot"
        },
        "width": 1200,
        "xaxis": {
         "anchor": "y",
         "domain": [
          0,
          0.2125
         ],
         "title": {
          "text": "max_depth"
         }
        },
        "xaxis2": {
         "anchor": "y2",
         "domain": [
          0.2625,
          0.475
         ],
         "title": {
          "text": "min_samples_leaf"
         }
        },
        "xaxis3": {
         "anchor": "y3",
         "domain": [
          0.525,
          0.7375
         ],
         "title": {
          "text": "min_samples_split"
         }
        },
        "xaxis4": {
         "anchor": "y4",
         "domain": [
          0.7875,
          1
         ],
         "title": {
          "text": "n_estimators"
         }
        },
        "yaxis": {
         "anchor": "x",
         "domain": [
          0,
          1
         ],
         "title": {
          "text": "Objective Value"
         }
        },
        "yaxis2": {
         "anchor": "x2",
         "domain": [
          0,
          1
         ],
         "matches": "y",
         "showticklabels": false
        },
        "yaxis3": {
         "anchor": "x3",
         "domain": [
          0,
          1
         ],
         "matches": "y",
         "showticklabels": false
        },
        "yaxis4": {
         "anchor": "x4",
         "domain": [
          0,
          1
         ],
         "matches": "y",
         "showticklabels": false
        }
       }
      }
     },
     "metadata": {},
     "output_type": "display_data"
    }
   ],
   "source": [
    "optuna.visualization.plot_slice(\n",
    "    study, params=[\"n_estimators\", \"max_depth\", \"min_samples_leaf\", \"min_samples_split\"]\n",
    ")"
   ]
  },
  {
   "cell_type": "code",
   "execution_count": 16,
   "metadata": {},
   "outputs": [
    {
     "data": {
      "application/vnd.plotly.v1+json": {
       "config": {
        "plotlyServerURL": "https://plot.ly"
       },
       "data": [
        {
         "cliponaxis": false,
         "hovertemplate": [
          "max_depth (IntDistribution): 0.0001284462420097001<extra></extra>",
          "n_estimators (IntDistribution): 0.0007269792356612414<extra></extra>",
          "min_samples_split (IntDistribution): 0.006411021481163906<extra></extra>",
          "min_samples_leaf (IntDistribution): 0.9927335530411651<extra></extra>"
         ],
         "name": "Objective Value",
         "orientation": "h",
         "text": [
          "<0.01",
          "<0.01",
          "<0.01",
          "0.99"
         ],
         "textposition": "outside",
         "type": "bar",
         "x": [
          0.0001284462420097001,
          0.0007269792356612414,
          0.006411021481163906,
          0.9927335530411651
         ],
         "y": [
          "max_depth",
          "n_estimators",
          "min_samples_split",
          "min_samples_leaf"
         ]
        }
       ],
       "layout": {
        "template": {
         "data": {
          "bar": [
           {
            "error_x": {
             "color": "#2a3f5f"
            },
            "error_y": {
             "color": "#2a3f5f"
            },
            "marker": {
             "line": {
              "color": "#E5ECF6",
              "width": 0.5
             },
             "pattern": {
              "fillmode": "overlay",
              "size": 10,
              "solidity": 0.2
             }
            },
            "type": "bar"
           }
          ],
          "barpolar": [
           {
            "marker": {
             "line": {
              "color": "#E5ECF6",
              "width": 0.5
             },
             "pattern": {
              "fillmode": "overlay",
              "size": 10,
              "solidity": 0.2
             }
            },
            "type": "barpolar"
           }
          ],
          "carpet": [
           {
            "aaxis": {
             "endlinecolor": "#2a3f5f",
             "gridcolor": "white",
             "linecolor": "white",
             "minorgridcolor": "white",
             "startlinecolor": "#2a3f5f"
            },
            "baxis": {
             "endlinecolor": "#2a3f5f",
             "gridcolor": "white",
             "linecolor": "white",
             "minorgridcolor": "white",
             "startlinecolor": "#2a3f5f"
            },
            "type": "carpet"
           }
          ],
          "choropleth": [
           {
            "colorbar": {
             "outlinewidth": 0,
             "ticks": ""
            },
            "type": "choropleth"
           }
          ],
          "contour": [
           {
            "colorbar": {
             "outlinewidth": 0,
             "ticks": ""
            },
            "colorscale": [
             [
              0,
              "#0d0887"
             ],
             [
              0.1111111111111111,
              "#46039f"
             ],
             [
              0.2222222222222222,
              "#7201a8"
             ],
             [
              0.3333333333333333,
              "#9c179e"
             ],
             [
              0.4444444444444444,
              "#bd3786"
             ],
             [
              0.5555555555555556,
              "#d8576b"
             ],
             [
              0.6666666666666666,
              "#ed7953"
             ],
             [
              0.7777777777777778,
              "#fb9f3a"
             ],
             [
              0.8888888888888888,
              "#fdca26"
             ],
             [
              1,
              "#f0f921"
             ]
            ],
            "type": "contour"
           }
          ],
          "contourcarpet": [
           {
            "colorbar": {
             "outlinewidth": 0,
             "ticks": ""
            },
            "type": "contourcarpet"
           }
          ],
          "heatmap": [
           {
            "colorbar": {
             "outlinewidth": 0,
             "ticks": ""
            },
            "colorscale": [
             [
              0,
              "#0d0887"
             ],
             [
              0.1111111111111111,
              "#46039f"
             ],
             [
              0.2222222222222222,
              "#7201a8"
             ],
             [
              0.3333333333333333,
              "#9c179e"
             ],
             [
              0.4444444444444444,
              "#bd3786"
             ],
             [
              0.5555555555555556,
              "#d8576b"
             ],
             [
              0.6666666666666666,
              "#ed7953"
             ],
             [
              0.7777777777777778,
              "#fb9f3a"
             ],
             [
              0.8888888888888888,
              "#fdca26"
             ],
             [
              1,
              "#f0f921"
             ]
            ],
            "type": "heatmap"
           }
          ],
          "heatmapgl": [
           {
            "colorbar": {
             "outlinewidth": 0,
             "ticks": ""
            },
            "colorscale": [
             [
              0,
              "#0d0887"
             ],
             [
              0.1111111111111111,
              "#46039f"
             ],
             [
              0.2222222222222222,
              "#7201a8"
             ],
             [
              0.3333333333333333,
              "#9c179e"
             ],
             [
              0.4444444444444444,
              "#bd3786"
             ],
             [
              0.5555555555555556,
              "#d8576b"
             ],
             [
              0.6666666666666666,
              "#ed7953"
             ],
             [
              0.7777777777777778,
              "#fb9f3a"
             ],
             [
              0.8888888888888888,
              "#fdca26"
             ],
             [
              1,
              "#f0f921"
             ]
            ],
            "type": "heatmapgl"
           }
          ],
          "histogram": [
           {
            "marker": {
             "pattern": {
              "fillmode": "overlay",
              "size": 10,
              "solidity": 0.2
             }
            },
            "type": "histogram"
           }
          ],
          "histogram2d": [
           {
            "colorbar": {
             "outlinewidth": 0,
             "ticks": ""
            },
            "colorscale": [
             [
              0,
              "#0d0887"
             ],
             [
              0.1111111111111111,
              "#46039f"
             ],
             [
              0.2222222222222222,
              "#7201a8"
             ],
             [
              0.3333333333333333,
              "#9c179e"
             ],
             [
              0.4444444444444444,
              "#bd3786"
             ],
             [
              0.5555555555555556,
              "#d8576b"
             ],
             [
              0.6666666666666666,
              "#ed7953"
             ],
             [
              0.7777777777777778,
              "#fb9f3a"
             ],
             [
              0.8888888888888888,
              "#fdca26"
             ],
             [
              1,
              "#f0f921"
             ]
            ],
            "type": "histogram2d"
           }
          ],
          "histogram2dcontour": [
           {
            "colorbar": {
             "outlinewidth": 0,
             "ticks": ""
            },
            "colorscale": [
             [
              0,
              "#0d0887"
             ],
             [
              0.1111111111111111,
              "#46039f"
             ],
             [
              0.2222222222222222,
              "#7201a8"
             ],
             [
              0.3333333333333333,
              "#9c179e"
             ],
             [
              0.4444444444444444,
              "#bd3786"
             ],
             [
              0.5555555555555556,
              "#d8576b"
             ],
             [
              0.6666666666666666,
              "#ed7953"
             ],
             [
              0.7777777777777778,
              "#fb9f3a"
             ],
             [
              0.8888888888888888,
              "#fdca26"
             ],
             [
              1,
              "#f0f921"
             ]
            ],
            "type": "histogram2dcontour"
           }
          ],
          "mesh3d": [
           {
            "colorbar": {
             "outlinewidth": 0,
             "ticks": ""
            },
            "type": "mesh3d"
           }
          ],
          "parcoords": [
           {
            "line": {
             "colorbar": {
              "outlinewidth": 0,
              "ticks": ""
             }
            },
            "type": "parcoords"
           }
          ],
          "pie": [
           {
            "automargin": true,
            "type": "pie"
           }
          ],
          "scatter": [
           {
            "fillpattern": {
             "fillmode": "overlay",
             "size": 10,
             "solidity": 0.2
            },
            "type": "scatter"
           }
          ],
          "scatter3d": [
           {
            "line": {
             "colorbar": {
              "outlinewidth": 0,
              "ticks": ""
             }
            },
            "marker": {
             "colorbar": {
              "outlinewidth": 0,
              "ticks": ""
             }
            },
            "type": "scatter3d"
           }
          ],
          "scattercarpet": [
           {
            "marker": {
             "colorbar": {
              "outlinewidth": 0,
              "ticks": ""
             }
            },
            "type": "scattercarpet"
           }
          ],
          "scattergeo": [
           {
            "marker": {
             "colorbar": {
              "outlinewidth": 0,
              "ticks": ""
             }
            },
            "type": "scattergeo"
           }
          ],
          "scattergl": [
           {
            "marker": {
             "colorbar": {
              "outlinewidth": 0,
              "ticks": ""
             }
            },
            "type": "scattergl"
           }
          ],
          "scattermapbox": [
           {
            "marker": {
             "colorbar": {
              "outlinewidth": 0,
              "ticks": ""
             }
            },
            "type": "scattermapbox"
           }
          ],
          "scatterpolar": [
           {
            "marker": {
             "colorbar": {
              "outlinewidth": 0,
              "ticks": ""
             }
            },
            "type": "scatterpolar"
           }
          ],
          "scatterpolargl": [
           {
            "marker": {
             "colorbar": {
              "outlinewidth": 0,
              "ticks": ""
             }
            },
            "type": "scatterpolargl"
           }
          ],
          "scatterternary": [
           {
            "marker": {
             "colorbar": {
              "outlinewidth": 0,
              "ticks": ""
             }
            },
            "type": "scatterternary"
           }
          ],
          "surface": [
           {
            "colorbar": {
             "outlinewidth": 0,
             "ticks": ""
            },
            "colorscale": [
             [
              0,
              "#0d0887"
             ],
             [
              0.1111111111111111,
              "#46039f"
             ],
             [
              0.2222222222222222,
              "#7201a8"
             ],
             [
              0.3333333333333333,
              "#9c179e"
             ],
             [
              0.4444444444444444,
              "#bd3786"
             ],
             [
              0.5555555555555556,
              "#d8576b"
             ],
             [
              0.6666666666666666,
              "#ed7953"
             ],
             [
              0.7777777777777778,
              "#fb9f3a"
             ],
             [
              0.8888888888888888,
              "#fdca26"
             ],
             [
              1,
              "#f0f921"
             ]
            ],
            "type": "surface"
           }
          ],
          "table": [
           {
            "cells": {
             "fill": {
              "color": "#EBF0F8"
             },
             "line": {
              "color": "white"
             }
            },
            "header": {
             "fill": {
              "color": "#C8D4E3"
             },
             "line": {
              "color": "white"
             }
            },
            "type": "table"
           }
          ]
         },
         "layout": {
          "annotationdefaults": {
           "arrowcolor": "#2a3f5f",
           "arrowhead": 0,
           "arrowwidth": 1
          },
          "autotypenumbers": "strict",
          "coloraxis": {
           "colorbar": {
            "outlinewidth": 0,
            "ticks": ""
           }
          },
          "colorscale": {
           "diverging": [
            [
             0,
             "#8e0152"
            ],
            [
             0.1,
             "#c51b7d"
            ],
            [
             0.2,
             "#de77ae"
            ],
            [
             0.3,
             "#f1b6da"
            ],
            [
             0.4,
             "#fde0ef"
            ],
            [
             0.5,
             "#f7f7f7"
            ],
            [
             0.6,
             "#e6f5d0"
            ],
            [
             0.7,
             "#b8e186"
            ],
            [
             0.8,
             "#7fbc41"
            ],
            [
             0.9,
             "#4d9221"
            ],
            [
             1,
             "#276419"
            ]
           ],
           "sequential": [
            [
             0,
             "#0d0887"
            ],
            [
             0.1111111111111111,
             "#46039f"
            ],
            [
             0.2222222222222222,
             "#7201a8"
            ],
            [
             0.3333333333333333,
             "#9c179e"
            ],
            [
             0.4444444444444444,
             "#bd3786"
            ],
            [
             0.5555555555555556,
             "#d8576b"
            ],
            [
             0.6666666666666666,
             "#ed7953"
            ],
            [
             0.7777777777777778,
             "#fb9f3a"
            ],
            [
             0.8888888888888888,
             "#fdca26"
            ],
            [
             1,
             "#f0f921"
            ]
           ],
           "sequentialminus": [
            [
             0,
             "#0d0887"
            ],
            [
             0.1111111111111111,
             "#46039f"
            ],
            [
             0.2222222222222222,
             "#7201a8"
            ],
            [
             0.3333333333333333,
             "#9c179e"
            ],
            [
             0.4444444444444444,
             "#bd3786"
            ],
            [
             0.5555555555555556,
             "#d8576b"
            ],
            [
             0.6666666666666666,
             "#ed7953"
            ],
            [
             0.7777777777777778,
             "#fb9f3a"
            ],
            [
             0.8888888888888888,
             "#fdca26"
            ],
            [
             1,
             "#f0f921"
            ]
           ]
          },
          "colorway": [
           "#636efa",
           "#EF553B",
           "#00cc96",
           "#ab63fa",
           "#FFA15A",
           "#19d3f3",
           "#FF6692",
           "#B6E880",
           "#FF97FF",
           "#FECB52"
          ],
          "font": {
           "color": "#2a3f5f"
          },
          "geo": {
           "bgcolor": "white",
           "lakecolor": "white",
           "landcolor": "#E5ECF6",
           "showlakes": true,
           "showland": true,
           "subunitcolor": "white"
          },
          "hoverlabel": {
           "align": "left"
          },
          "hovermode": "closest",
          "mapbox": {
           "style": "light"
          },
          "paper_bgcolor": "white",
          "plot_bgcolor": "#E5ECF6",
          "polar": {
           "angularaxis": {
            "gridcolor": "white",
            "linecolor": "white",
            "ticks": ""
           },
           "bgcolor": "#E5ECF6",
           "radialaxis": {
            "gridcolor": "white",
            "linecolor": "white",
            "ticks": ""
           }
          },
          "scene": {
           "xaxis": {
            "backgroundcolor": "#E5ECF6",
            "gridcolor": "white",
            "gridwidth": 2,
            "linecolor": "white",
            "showbackground": true,
            "ticks": "",
            "zerolinecolor": "white"
           },
           "yaxis": {
            "backgroundcolor": "#E5ECF6",
            "gridcolor": "white",
            "gridwidth": 2,
            "linecolor": "white",
            "showbackground": true,
            "ticks": "",
            "zerolinecolor": "white"
           },
           "zaxis": {
            "backgroundcolor": "#E5ECF6",
            "gridcolor": "white",
            "gridwidth": 2,
            "linecolor": "white",
            "showbackground": true,
            "ticks": "",
            "zerolinecolor": "white"
           }
          },
          "shapedefaults": {
           "line": {
            "color": "#2a3f5f"
           }
          },
          "ternary": {
           "aaxis": {
            "gridcolor": "white",
            "linecolor": "white",
            "ticks": ""
           },
           "baxis": {
            "gridcolor": "white",
            "linecolor": "white",
            "ticks": ""
           },
           "bgcolor": "#E5ECF6",
           "caxis": {
            "gridcolor": "white",
            "linecolor": "white",
            "ticks": ""
           }
          },
          "title": {
           "x": 0.05
          },
          "xaxis": {
           "automargin": true,
           "gridcolor": "white",
           "linecolor": "white",
           "ticks": "",
           "title": {
            "standoff": 15
           },
           "zerolinecolor": "white",
           "zerolinewidth": 2
          },
          "yaxis": {
           "automargin": true,
           "gridcolor": "white",
           "linecolor": "white",
           "ticks": "",
           "title": {
            "standoff": 15
           },
           "zerolinecolor": "white",
           "zerolinewidth": 2
          }
         }
        },
        "title": {
         "text": "Hyperparameter Importances"
        },
        "xaxis": {
         "title": {
          "text": "Hyperparameter Importance"
         }
        },
        "yaxis": {
         "title": {
          "text": "Hyperparameter"
         }
        }
       }
      }
     },
     "metadata": {},
     "output_type": "display_data"
    }
   ],
   "source": [
    "optuna.visualization.plot_param_importances(study)"
   ]
  },
  {
   "cell_type": "code",
   "execution_count": 17,
   "metadata": {},
   "outputs": [],
   "source": [
    "best_n_estimators = best_params[\"n_estimators\"]\n",
    "best_max_depth = best_params[\"max_depth\"]\n",
    "best_min_samples_split = best_params[\"min_samples_split\"]\n",
    "best_min_samples_leaf = best_params[\"min_samples_leaf\"]"
   ]
  },
  {
   "cell_type": "code",
   "execution_count": 18,
   "metadata": {},
   "outputs": [],
   "source": [
    "best_model = RandomForestRegressor(\n",
    "    n_estimators=best_n_estimators,\n",
    "    max_depth=best_max_depth,\n",
    "    min_samples_split=best_min_samples_split,\n",
    "    min_samples_leaf=best_min_samples_leaf,\n",
    ")\n",
    "best_model.fit(X_train, y_train)\n",
    "y_pred = best_model.predict(X_test)"
   ]
  },
  {
   "cell_type": "code",
   "execution_count": 19,
   "metadata": {},
   "outputs": [
    {
     "name": "stdout",
     "output_type": "stream",
     "text": [
      "0.319734253036058\n",
      "0.14611125516317616\n",
      "0.9871999114140704\n"
     ]
    }
   ],
   "source": [
    "print(mean_absolute_error(y_test, y_pred))\n",
    "print(mean_squared_error(y_test, y_pred))\n",
    "print(r2_score(y_test, y_pred))"
   ]
  },
  {
   "cell_type": "code",
   "execution_count": null,
   "metadata": {},
   "outputs": [],
   "source": []
  }
 ],
 "metadata": {
  "kernelspec": {
   "display_name": "Python (ml_myenv)",
   "language": "python",
   "name": "my_kernel"
  },
  "language_info": {
   "codemirror_mode": {
    "name": "ipython",
    "version": 3
   },
   "file_extension": ".py",
   "mimetype": "text/x-python",
   "name": "python",
   "nbconvert_exporter": "python",
   "pygments_lexer": "ipython3",
   "version": "3.12.3"
  }
 },
 "nbformat": 4,
 "nbformat_minor": 2
}
