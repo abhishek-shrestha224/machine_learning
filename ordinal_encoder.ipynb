{
 "cells": [
  {
   "cell_type": "code",
   "id": "initial_id",
   "metadata": {
    "collapsed": true,
    "ExecuteTime": {
     "end_time": "2024-09-04T05:45:22.604258Z",
     "start_time": "2024-09-04T05:45:22.599354Z"
    }
   },
   "source": [
    "import pandas as pd\n",
    "from sklearn.preprocessing import OrdinalEncoder\n",
    "from pprint import pprint"
   ],
   "outputs": [],
   "execution_count": 38
  },
  {
   "metadata": {
    "ExecuteTime": {
     "end_time": "2024-09-04T05:45:22.644009Z",
     "start_time": "2024-09-04T05:45:22.630919Z"
    }
   },
   "cell_type": "code",
   "source": [
    "d = {\n",
    "    \"sales\": [\n",
    "        100000,\n",
    "        222000,\n",
    "        1000000,\n",
    "        522000,\n",
    "        111111,\n",
    "        222222,\n",
    "        1111111,\n",
    "        20000,\n",
    "        75000,\n",
    "        90000,\n",
    "        1000000,\n",
    "        10000,\n",
    "    ],\n",
    "    \"city\": [\n",
    "        \"Tampa\",\n",
    "        \"Tampa\",\n",
    "        \"Orlando\",\n",
    "        \"Jacksonville\",\n",
    "        \"Miami\",\n",
    "        \"Jacksonville\",\n",
    "        \"Miami\",\n",
    "        \"Miami\",\n",
    "        \"Orlando\",\n",
    "        \"Orlando\",\n",
    "        \"Orlando\",\n",
    "        \"Orlando\",\n",
    "    ],\n",
    "    \"size\": [\n",
    "        \"Small\",\n",
    "        \"Medium\",\n",
    "        \"Large\",\n",
    "        \"Large\",\n",
    "        \"Small\",\n",
    "        \"Medium\",\n",
    "        \"Large\",\n",
    "        \"Small\",\n",
    "        \"Medium\",\n",
    "        \"Medium\",\n",
    "        \"Medium\",\n",
    "        \"Small\",\n",
    "    ],\n",
    "}"
   ],
   "id": "50b11b1992283c8f",
   "outputs": [],
   "execution_count": 39
  },
  {
   "metadata": {
    "ExecuteTime": {
     "end_time": "2024-09-04T05:45:22.679660Z",
     "start_time": "2024-09-04T05:45:22.659651Z"
    }
   },
   "cell_type": "code",
   "source": [
    "df = pd.DataFrame(data=d)\n",
    "df"
   ],
   "id": "b12859e09032147d",
   "outputs": [
    {
     "data": {
      "text/plain": [
       "      sales          city    size\n",
       "0    100000         Tampa   Small\n",
       "1    222000         Tampa  Medium\n",
       "2   1000000       Orlando   Large\n",
       "3    522000  Jacksonville   Large\n",
       "4    111111         Miami   Small\n",
       "5    222222  Jacksonville  Medium\n",
       "6   1111111         Miami   Large\n",
       "7     20000         Miami   Small\n",
       "8     75000       Orlando  Medium\n",
       "9     90000       Orlando  Medium\n",
       "10  1000000       Orlando  Medium\n",
       "11    10000       Orlando   Small"
      ],
      "text/html": [
       "<div>\n",
       "<style scoped>\n",
       "    .dataframe tbody tr th:only-of-type {\n",
       "        vertical-align: middle;\n",
       "    }\n",
       "\n",
       "    .dataframe tbody tr th {\n",
       "        vertical-align: top;\n",
       "    }\n",
       "\n",
       "    .dataframe thead th {\n",
       "        text-align: right;\n",
       "    }\n",
       "</style>\n",
       "<table border=\"1\" class=\"dataframe\">\n",
       "  <thead>\n",
       "    <tr style=\"text-align: right;\">\n",
       "      <th></th>\n",
       "      <th>sales</th>\n",
       "      <th>city</th>\n",
       "      <th>size</th>\n",
       "    </tr>\n",
       "  </thead>\n",
       "  <tbody>\n",
       "    <tr>\n",
       "      <th>0</th>\n",
       "      <td>100000</td>\n",
       "      <td>Tampa</td>\n",
       "      <td>Small</td>\n",
       "    </tr>\n",
       "    <tr>\n",
       "      <th>1</th>\n",
       "      <td>222000</td>\n",
       "      <td>Tampa</td>\n",
       "      <td>Medium</td>\n",
       "    </tr>\n",
       "    <tr>\n",
       "      <th>2</th>\n",
       "      <td>1000000</td>\n",
       "      <td>Orlando</td>\n",
       "      <td>Large</td>\n",
       "    </tr>\n",
       "    <tr>\n",
       "      <th>3</th>\n",
       "      <td>522000</td>\n",
       "      <td>Jacksonville</td>\n",
       "      <td>Large</td>\n",
       "    </tr>\n",
       "    <tr>\n",
       "      <th>4</th>\n",
       "      <td>111111</td>\n",
       "      <td>Miami</td>\n",
       "      <td>Small</td>\n",
       "    </tr>\n",
       "    <tr>\n",
       "      <th>5</th>\n",
       "      <td>222222</td>\n",
       "      <td>Jacksonville</td>\n",
       "      <td>Medium</td>\n",
       "    </tr>\n",
       "    <tr>\n",
       "      <th>6</th>\n",
       "      <td>1111111</td>\n",
       "      <td>Miami</td>\n",
       "      <td>Large</td>\n",
       "    </tr>\n",
       "    <tr>\n",
       "      <th>7</th>\n",
       "      <td>20000</td>\n",
       "      <td>Miami</td>\n",
       "      <td>Small</td>\n",
       "    </tr>\n",
       "    <tr>\n",
       "      <th>8</th>\n",
       "      <td>75000</td>\n",
       "      <td>Orlando</td>\n",
       "      <td>Medium</td>\n",
       "    </tr>\n",
       "    <tr>\n",
       "      <th>9</th>\n",
       "      <td>90000</td>\n",
       "      <td>Orlando</td>\n",
       "      <td>Medium</td>\n",
       "    </tr>\n",
       "    <tr>\n",
       "      <th>10</th>\n",
       "      <td>1000000</td>\n",
       "      <td>Orlando</td>\n",
       "      <td>Medium</td>\n",
       "    </tr>\n",
       "    <tr>\n",
       "      <th>11</th>\n",
       "      <td>10000</td>\n",
       "      <td>Orlando</td>\n",
       "      <td>Small</td>\n",
       "    </tr>\n",
       "  </tbody>\n",
       "</table>\n",
       "</div>"
      ]
     },
     "execution_count": 40,
     "metadata": {},
     "output_type": "execute_result"
    }
   ],
   "execution_count": 40
  },
  {
   "metadata": {
    "ExecuteTime": {
     "end_time": "2024-09-04T05:45:22.760699Z",
     "start_time": "2024-09-04T05:45:22.746712Z"
    }
   },
   "cell_type": "code",
   "source": "df['size'].unique()",
   "id": "d315972cc49546d",
   "outputs": [
    {
     "data": {
      "text/plain": [
       "array(['Small', 'Medium', 'Large'], dtype=object)"
      ]
     },
     "execution_count": 41,
     "metadata": {},
     "output_type": "execute_result"
    }
   ],
   "execution_count": 41
  },
  {
   "metadata": {
    "ExecuteTime": {
     "end_time": "2024-09-04T05:45:22.884964Z",
     "start_time": "2024-09-04T05:45:22.873215Z"
    }
   },
   "cell_type": "code",
   "source": [
    "sizes = [\"Small\", \"Medium\", \"Large\"]"
   ],
   "id": "71e3312c4a120c96",
   "outputs": [],
   "execution_count": 42
  },
  {
   "metadata": {
    "ExecuteTime": {
     "end_time": "2024-09-04T05:45:23.028256Z",
     "start_time": "2024-09-04T05:45:23.014841Z"
    }
   },
   "cell_type": "code",
   "source": [
    "enc = OrdinalEncoder(categories=[sizes])\n",
    "print(enc.fit_transform(df[[\"size\"]]))"
   ],
   "id": "8e1788cad93f89d",
   "outputs": [
    {
     "name": "stdout",
     "output_type": "stream",
     "text": [
      "[[0.]\n",
      " [1.]\n",
      " [2.]\n",
      " [2.]\n",
      " [0.]\n",
      " [1.]\n",
      " [2.]\n",
      " [0.]\n",
      " [1.]\n",
      " [1.]\n",
      " [1.]\n",
      " [0.]]\n"
     ]
    }
   ],
   "execution_count": 43
  },
  {
   "metadata": {
    "ExecuteTime": {
     "end_time": "2024-09-04T05:45:23.170954Z",
     "start_time": "2024-09-04T05:45:23.155800Z"
    }
   },
   "cell_type": "code",
   "source": [
    "df[\"size\"] = enc.fit_transform(df[[\"size\"]])"
   ],
   "id": "ce9a6ce6007de0b4",
   "outputs": [],
   "execution_count": 44
  },
  {
   "metadata": {
    "ExecuteTime": {
     "end_time": "2024-09-04T05:45:23.223515Z",
     "start_time": "2024-09-04T05:45:23.202710Z"
    }
   },
   "cell_type": "code",
   "source": "df",
   "id": "ba332c3bc4d62b97",
   "outputs": [
    {
     "data": {
      "text/plain": [
       "      sales          city  size\n",
       "0    100000         Tampa   0.0\n",
       "1    222000         Tampa   1.0\n",
       "2   1000000       Orlando   2.0\n",
       "3    522000  Jacksonville   2.0\n",
       "4    111111         Miami   0.0\n",
       "5    222222  Jacksonville   1.0\n",
       "6   1111111         Miami   2.0\n",
       "7     20000         Miami   0.0\n",
       "8     75000       Orlando   1.0\n",
       "9     90000       Orlando   1.0\n",
       "10  1000000       Orlando   1.0\n",
       "11    10000       Orlando   0.0"
      ],
      "text/html": [
       "<div>\n",
       "<style scoped>\n",
       "    .dataframe tbody tr th:only-of-type {\n",
       "        vertical-align: middle;\n",
       "    }\n",
       "\n",
       "    .dataframe tbody tr th {\n",
       "        vertical-align: top;\n",
       "    }\n",
       "\n",
       "    .dataframe thead th {\n",
       "        text-align: right;\n",
       "    }\n",
       "</style>\n",
       "<table border=\"1\" class=\"dataframe\">\n",
       "  <thead>\n",
       "    <tr style=\"text-align: right;\">\n",
       "      <th></th>\n",
       "      <th>sales</th>\n",
       "      <th>city</th>\n",
       "      <th>size</th>\n",
       "    </tr>\n",
       "  </thead>\n",
       "  <tbody>\n",
       "    <tr>\n",
       "      <th>0</th>\n",
       "      <td>100000</td>\n",
       "      <td>Tampa</td>\n",
       "      <td>0.0</td>\n",
       "    </tr>\n",
       "    <tr>\n",
       "      <th>1</th>\n",
       "      <td>222000</td>\n",
       "      <td>Tampa</td>\n",
       "      <td>1.0</td>\n",
       "    </tr>\n",
       "    <tr>\n",
       "      <th>2</th>\n",
       "      <td>1000000</td>\n",
       "      <td>Orlando</td>\n",
       "      <td>2.0</td>\n",
       "    </tr>\n",
       "    <tr>\n",
       "      <th>3</th>\n",
       "      <td>522000</td>\n",
       "      <td>Jacksonville</td>\n",
       "      <td>2.0</td>\n",
       "    </tr>\n",
       "    <tr>\n",
       "      <th>4</th>\n",
       "      <td>111111</td>\n",
       "      <td>Miami</td>\n",
       "      <td>0.0</td>\n",
       "    </tr>\n",
       "    <tr>\n",
       "      <th>5</th>\n",
       "      <td>222222</td>\n",
       "      <td>Jacksonville</td>\n",
       "      <td>1.0</td>\n",
       "    </tr>\n",
       "    <tr>\n",
       "      <th>6</th>\n",
       "      <td>1111111</td>\n",
       "      <td>Miami</td>\n",
       "      <td>2.0</td>\n",
       "    </tr>\n",
       "    <tr>\n",
       "      <th>7</th>\n",
       "      <td>20000</td>\n",
       "      <td>Miami</td>\n",
       "      <td>0.0</td>\n",
       "    </tr>\n",
       "    <tr>\n",
       "      <th>8</th>\n",
       "      <td>75000</td>\n",
       "      <td>Orlando</td>\n",
       "      <td>1.0</td>\n",
       "    </tr>\n",
       "    <tr>\n",
       "      <th>9</th>\n",
       "      <td>90000</td>\n",
       "      <td>Orlando</td>\n",
       "      <td>1.0</td>\n",
       "    </tr>\n",
       "    <tr>\n",
       "      <th>10</th>\n",
       "      <td>1000000</td>\n",
       "      <td>Orlando</td>\n",
       "      <td>1.0</td>\n",
       "    </tr>\n",
       "    <tr>\n",
       "      <th>11</th>\n",
       "      <td>10000</td>\n",
       "      <td>Orlando</td>\n",
       "      <td>0.0</td>\n",
       "    </tr>\n",
       "  </tbody>\n",
       "</table>\n",
       "</div>"
      ]
     },
     "execution_count": 45,
     "metadata": {},
     "output_type": "execute_result"
    }
   ],
   "execution_count": 45
  },
  {
   "metadata": {
    "ExecuteTime": {
     "end_time": "2024-09-04T05:45:23.439755Z",
     "start_time": "2024-09-04T05:45:23.427608Z"
    }
   },
   "cell_type": "code",
   "source": "",
   "id": "4b6657a91192089b",
   "outputs": [],
   "execution_count": null
  }
 ],
 "metadata": {
  "kernelspec": {
   "display_name": "Python 3",
   "language": "python",
   "name": "python3"
  },
  "language_info": {
   "codemirror_mode": {
    "name": "ipython",
    "version": 2
   },
   "file_extension": ".py",
   "mimetype": "text/x-python",
   "name": "python",
   "nbconvert_exporter": "python",
   "pygments_lexer": "ipython2",
   "version": "2.7.6"
  }
 },
 "nbformat": 4,
 "nbformat_minor": 5
}
